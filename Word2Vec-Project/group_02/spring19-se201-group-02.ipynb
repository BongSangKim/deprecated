from gensim.models import Word2Vec
import gensim.utils

text = []
for ind in range(2):
    indstr = str(ind)
    filename = "ob_" + str(indstr.zfill(2)) + ".txt"
    with open(filename) as file:
        line = file.readline()
        while line:
            text.append(gensim.utils.simple_preprocess(line))
            line = file.readline()

ob = Word2Vec(text, size=10, window=5, min_count=1, workers=4)
ob.train(text, total_examples=len(text), epochs=100)