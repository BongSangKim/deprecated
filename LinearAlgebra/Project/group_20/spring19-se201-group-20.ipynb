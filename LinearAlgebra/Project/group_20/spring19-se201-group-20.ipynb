{
 "cells": [
  {
   "cell_type": "markdown",
   "metadata": {},
   "source": [
    "## Group 20\n",
    "\n",
    "* 영화 긍정, 부정 리뷰 데이터를 이용한 리뷰 분류 알고리즘 개발\n",
    "* 긍정, 부정 모형을 각각 학습시킨 뒤, 각 단어의 긍정 엔트로피와 부정 엔트로피를 계산, 전체 글의 긍정, 부정 엔트로피를 평균하여 계산함.\n"
   ]
  },
  {
   "cell_type": "markdown",
   "metadata": {},
   "source": [
    "부정 리뷰 모형 학습"
   ]
  },
  {
   "cell_type": "code",
   "execution_count": 2,
   "metadata": {},
   "outputs": [],
   "source": [
    "import gensim \n",
    "from os import walk\n",
    "\n",
    "file_list = []\n",
    "current_path = \"./aclImdb/test/neg/\"\n",
    "for (dirpath, dirnames, filenames) in walk(current_path):\n",
    "    file_list.extend(filenames)\n",
    "    break\n",
    "\n",
    "def read_input(current_path, file_list):\n",
    "    for i in range(len(file_list)):\n",
    "        with open(current_path + file_list[i], encoding='utf-8') as file:\n",
    "            for j, line in enumerate(file):\n",
    "                yield gensim.utils.simple_preprocess(line)\n",
    "\n",
    "document = list(read_input(current_path, file_list))"
   ]
  },
  {
   "cell_type": "code",
   "execution_count": 3,
   "metadata": {},
   "outputs": [
    {
     "data": {
      "text/plain": [
       "(20781202, 27540030)"
      ]
     },
     "execution_count": 3,
     "metadata": {},
     "output_type": "execute_result"
    }
   ],
   "source": [
    "Imdb_review_model = gensim.models.Word2Vec (document, size=50, window=10, min_count=2, workers=4)\n",
    "Imdb_review_model.train(document, total_examples=len(document), epochs=10)"
   ]
  },
  {
   "cell_type": "code",
   "execution_count": 30,
   "metadata": {},
   "outputs": [
    {
     "data": {
      "text/plain": [
       "[('intriguing', 0.7861724495887756),\n",
       " ('exciting', 0.7413128614425659),\n",
       " ('odd', 0.7387148141860962),\n",
       " ('effective', 0.7348339557647705),\n",
       " ('realistic', 0.6612774133682251),\n",
       " ('promising', 0.6301883459091187)]"
      ]
     },
     "execution_count": 30,
     "metadata": {},
     "output_type": "execute_result"
    }
   ],
   "source": [
    "Imdb_review_model.wv.most_similar(positive = ['interesting'], topn=6)"
   ]
  },
  {
   "cell_type": "code",
   "execution_count": 31,
   "metadata": {},
   "outputs": [
    {
     "data": {
      "text/plain": [
       "[('cents', 0.5387125611305237),\n",
       " ('mart', 0.5345513224601746),\n",
       " ('stores', 0.5297784805297852),\n",
       " ('wal', 0.5278729796409607),\n",
       " ('grocery', 0.5252329111099243),\n",
       " ('sale', 0.516481339931488)]"
      ]
     },
     "execution_count": 31,
     "metadata": {},
     "output_type": "execute_result"
    }
   ],
   "source": [
    "Imdb_review_model.wv.most_similar(negative = ['uninteresting'], topn=6)"
   ]
  },
  {
   "cell_type": "code",
   "execution_count": 33,
   "metadata": {},
   "outputs": [
    {
     "name": "stdout",
     "output_type": "stream",
     "text": [
      "the 163308\n"
     ]
    }
   ],
   "source": [
    "maxcount = 0\n",
    "maxword = str()\n",
    "for word, obj in Imdb_review_model.wv.vocab.items():\n",
    "    if maxcount < obj.count:\n",
    "        maxcount = obj.count\n",
    "        maxword = word\n",
    "print(maxword, maxcount)"
   ]
  },
  {
   "cell_type": "code",
   "execution_count": 37,
   "metadata": {},
   "outputs": [
    {
     "name": "stdout",
     "output_type": "stream",
     "text": [
      "the 163308\n",
      "and 73415\n",
      "of 68296\n",
      "to 67828\n",
      "br 51361\n",
      "is 49167\n",
      "it 47331\n",
      "in 43776\n",
      "this 40432\n",
      "that 36646\n",
      "was 25978\n",
      "movie 25148\n",
      "for 21307\n",
      "but 21037\n",
      "with 20770\n",
      "as 20018\n",
      "film 18376\n",
      "you 18041\n",
      "on 17117\n",
      "not 16087\n",
      "have 15468\n",
      "are 14527\n",
      "be 14282\n",
      "he 13231\n",
      "one 13145\n",
      "they 12884\n",
      "at 12132\n",
      "all 11776\n",
      "his 11676\n",
      "so 11306\n",
      "like 11217\n",
      "there 10532\n",
      "just 10455\n",
      "an 10240\n",
      "by 10190\n",
      "or 10084\n",
      "from 9846\n",
      "if 9761\n",
      "who 9655\n",
      "out 9009\n",
      "about 8735\n",
      "what 8541\n",
      "some 8353\n",
      "no 7916\n",
      "even 7563\n",
      "has 7455\n",
      "can 7441\n",
      "her 7408\n",
      "bad 7325\n",
      "good 7305\n",
      "would 6971\n",
      "up 6904\n",
      "when 6771\n",
      "only 6595\n",
      "more 6549\n",
      "she 6209\n",
      "time 6147\n",
      "really 6092\n",
      "my 5986\n",
      "had 5860\n",
      "were 5816\n",
      "very 5796\n",
      "me 5659\n",
      "which 5581\n",
      "see 5301\n",
      "don 5259\n",
      "their 5210\n",
      "do 5198\n",
      "get 5096\n",
      "we 5062\n",
      "much 5040\n",
      "been 5009\n",
      "story 4976\n",
      "than 4974\n",
      "because 4768\n",
      "people 4662\n",
      "how 4646\n",
      "make 4633\n",
      "could 4615\n",
      "then 4558\n",
      "into 4508\n",
      "any 4469\n",
      "other 4383\n",
      "well 4283\n",
      "made 4260\n",
      "movies 4232\n",
      "them 4189\n",
      "too 4084\n",
      "plot 4059\n",
      "first 4046\n",
      "acting 4031\n",
      "him 3924\n",
      "most 3895\n",
      "will 3845\n",
      "way 3791\n",
      "characters 3753\n",
      "after 3686\n",
      "watch 3670\n",
      "off 3642\n",
      "also 3576\n"
     ]
    }
   ],
   "source": [
    "wordlist = []\n",
    "count = []\n",
    "for word, obj in Imdb_review_model.wv.vocab.items():\n",
    "    wordlist.append(word)\n",
    "    count.append(obj.count)\n",
    "for _ in range(100):\n",
    "    idx = count.index(max(count))\n",
    "    print(wordlist[idx], max(count))\n",
    "    del count[idx]\n",
    "    del wordlist[idx]"
   ]
  }
 ],
 "metadata": {
  "kernelspec": {
   "display_name": "Python 3",
   "language": "python",
   "name": "python3"
  },
  "language_info": {
   "codemirror_mode": {
    "name": "ipython",
    "version": 3
   },
   "file_extension": ".py",
   "mimetype": "text/x-python",
   "name": "python",
   "nbconvert_exporter": "python",
   "pygments_lexer": "ipython3",
   "version": "3.7.1"
  }
 },
 "nbformat": 4,
 "nbformat_minor": 2
}
