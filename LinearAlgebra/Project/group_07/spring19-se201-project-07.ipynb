{
 "cells": [
  {
   "cell_type": "code",
   "execution_count": 1,
   "metadata": {},
   "outputs": [
    {
     "name": "stderr",
     "output_type": "stream",
     "text": [
      "C:\\Users\\hyosa\\Anaconda3\\lib\\site-packages\\gensim\\utils.py:1197: UserWarning: detected Windows; aliasing chunkize to chunkize_serial\n",
      "  warnings.warn(\"detected Windows; aliasing chunkize to chunkize_serial\")\n"
     ]
    },
    {
     "data": {
      "text/plain": [
       "(5059366, 6916000)"
      ]
     },
     "execution_count": 1,
     "metadata": {},
     "output_type": "execute_result"
    }
   ],
   "source": [
    "import gensim \n",
    "\n",
    "docu = []\n",
    "with open(\"1.txt\", encoding='utf-8') as file:\n",
    "    for j, line in enumerate(file):\n",
    "        docu.append(gensim.utils.simple_preprocess(line))\n",
    "\n",
    "model = gensim.models.Word2Vec (docu, size=5, window=3, min_count=1, workers=4)\n",
    "model.train(docu, total_examples=len(docu), epochs=1000)"
   ]
  },
  {
   "cell_type": "code",
   "execution_count": 3,
   "metadata": {},
   "outputs": [
    {
     "name": "stdout",
     "output_type": "stream",
     "text": [
      "the 370\n",
      "to 230\n",
      "of 181\n",
      "and 167\n",
      "in 162\n",
      "we 162\n",
      "our 137\n",
      "that 129\n",
      "it 101\n",
      "is 93\n",
      "for 86\n",
      "people 66\n",
      "but 61\n",
      "have 58\n",
      "will 58\n",
      "are 57\n",
      "you 55\n",
      "this 49\n",
      "with 47\n",
      "be 46\n",
      "not 44\n",
      "they 43\n",
      "their 41\n",
      "on 40\n",
      "party 39\n",
      "at 35\n",
      "who 34\n",
      "would 33\n",
      "all 30\n",
      "country 30\n",
      "by 30\n",
      "if 28\n",
      "what 28\n",
      "them 27\n",
      "can 27\n",
      "when 27\n",
      "do 26\n",
      "has 26\n",
      "up 24\n",
      "no 23\n",
      "more 23\n",
      "every 22\n",
      "us 21\n",
      "government 21\n",
      "so 20\n",
      "labour 20\n",
      "need 20\n",
      "your 20\n",
      "britain 19\n",
      "was 18\n",
      "future 18\n",
      "free 18\n",
      "than 18\n",
      "back 18\n",
      "last 17\n",
      "from 17\n",
      "first 17\n",
      "as 17\n",
      "because 17\n",
      "british 16\n",
      "some 16\n",
      "today 16\n",
      "should 16\n",
      "years 16\n",
      "one 16\n",
      "make 16\n",
      "about 15\n",
      "me 15\n",
      "there 15\n",
      "year 15\n",
      "freedom 15\n",
      "together 15\n",
      "an 15\n",
      "time 15\n",
      "know 14\n",
      "good 14\n",
      "other 14\n",
      "were 14\n",
      "work 14\n",
      "security 13\n",
      "new 13\n",
      "been 12\n",
      "let 12\n",
      "hard 12\n",
      "never 12\n",
      "want 12\n",
      "nhs 12\n",
      "deal 12\n",
      "world 11\n",
      "left 11\n",
      "national 11\n",
      "cancer 11\n",
      "brexit 11\n",
      "trade 11\n",
      "everyone 10\n",
      "he 10\n",
      "build 10\n",
      "economy 10\n",
      "must 10\n",
      "come 10\n"
     ]
    }
   ],
   "source": [
    "wordlist = []\n",
    "count = []\n",
    "for word, obj in model.wv.vocab.items():\n",
    "    wordlist.append(word)\n",
    "    count.append(obj.count)\n",
    "for _ in range(100):\n",
    "    idx = count.index(max(count))\n",
    "    print(wordlist[idx], max(count))\n",
    "    del count[idx]\n",
    "    del wordlist[idx]"
   ]
  },
  {
   "cell_type": "code",
   "execution_count": 7,
   "metadata": {},
   "outputs": [
    {
     "data": {
      "text/plain": [
       "[('remarkable', 0.9161922931671143),\n",
       " ('bowel', 0.8899041414260864),\n",
       " ('amazing', 0.8838369846343994),\n",
       " ('borrow', 0.8783933520317078),\n",
       " ('pension', 0.8743470907211304),\n",
       " ('victorians', 0.873559832572937),\n",
       " ('private', 0.8727942705154419),\n",
       " ('home', 0.8724499940872192),\n",
       " ('threats', 0.8708772659301758),\n",
       " ('shops', 0.8674404621124268),\n",
       " ('costly', 0.86655193567276),\n",
       " ('level', 0.8610585927963257),\n",
       " ('respect', 0.8581840991973877),\n",
       " ('latest', 0.8579096794128418),\n",
       " ('diagnosed', 0.849594235420227),\n",
       " ('windrush', 0.8453100919723511),\n",
       " ('councils', 0.8443545699119568),\n",
       " ('as', 0.8411254286766052),\n",
       " ('sector', 0.8406943082809448),\n",
       " ('innovators', 0.8389544486999512)]"
      ]
     },
     "execution_count": 7,
     "metadata": {},
     "output_type": "execute_result"
    }
   ],
   "source": [
    "model.wv.most_similar(negative = ['labour'], topn=20)"
   ]
  },
  {
   "cell_type": "code",
   "execution_count": 13,
   "metadata": {},
   "outputs": [
    {
     "name": "stdout",
     "output_type": "stream",
     "text": [
      "-0.06938061 0.819883\n",
      "0.0708931 0.5233081\n"
     ]
    }
   ],
   "source": [
    "import numpy as np\n",
    "\n",
    "v1 = model.wv['people'] \n",
    "v1 = v1 / np.linalg.norm(v1)\n",
    "v2 = model.wv['future']\n",
    "v2 = v2 / np.linalg.norm(v2)\n",
    "\n",
    "v = model.wv['country'] \n",
    "v = v / np.linalg. norm(v)\n",
    "w = model.wv['labour'] \n",
    "w = w / np.linalg.norm(w)\n",
    "\n",
    "print(np.dot(v1,v), np.dot(v2,v))\n",
    "print(np.dot(v1,w), np.dot(v2,w))\n"
   ]
  }
 ],
 "metadata": {
  "kernelspec": {
   "display_name": "Python 3",
   "language": "python",
   "name": "python3"
  },
  "language_info": {
   "codemirror_mode": {
    "name": "ipython",
    "version": 3
   },
   "file_extension": ".py",
   "mimetype": "text/x-python",
   "name": "python",
   "nbconvert_exporter": "python",
   "pygments_lexer": "ipython3",
   "version": "3.7.1"
  }
 },
 "nbformat": 4,
 "nbformat_minor": 2
}
