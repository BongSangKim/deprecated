{
 "cells": [
  {
   "cell_type": "code",
   "execution_count": 42,
   "metadata": {},
   "outputs": [
    {
     "data": {
      "text/plain": [
       "(463323407, 557168000)"
      ]
     },
     "execution_count": 42,
     "metadata": {},
     "output_type": "execute_result"
    }
   ],
   "source": [
    "import gensim\n",
    "\n",
    "text = []\n",
    "with open(\"train.csv\", encoding='utf-8') as file:\n",
    "    line = file.readline()\n",
    "    while line:\n",
    "        if int(line[0]) == 1 :\n",
    "            text.append(gensim.utils.simple_preprocess(line[2:]))\n",
    "        line = file.readline()\n",
    "\n",
    "model = gensim.models.Word2Vec (text, size=10, window=10, min_count=2, workers=4)\n",
    "model.train(text, total_examples=len(text), epochs=500)"
   ]
  },
  {
   "cell_type": "code",
   "execution_count": 49,
   "metadata": {},
   "outputs": [],
   "source": [
    "key_world = ['president','nuclear','people','government']"
   ]
  },
  {
   "cell_type": "code",
   "execution_count": 63,
   "metadata": {},
   "outputs": [
    {
     "name": "stdout",
     "output_type": "stream",
     "text": [
      "[[-0.07365    -0.24891973 -0.26054537 -0.2534251 ]\n",
      " [ 0.2848378  -0.35679132 -0.22315472  0.21876787]\n",
      " [ 0.36890674  0.25959757 -0.3470516   0.10189264]\n",
      " [-0.5877324   0.06722361 -0.0142916   0.06183667]\n",
      " [ 0.14802533 -0.1572865  -0.5122748   0.1927355 ]\n",
      " [ 0.1342263   0.01636912 -0.076187    0.25077948]\n",
      " [ 0.07447902  0.29708406 -0.63017094 -0.16462053]\n",
      " [-0.2565427  -0.6545122   0.21923795 -0.8574811 ]\n",
      " [-0.56430846  0.4426831  -0.13541691 -0.03175185]\n",
      " [ 0.04677713 -0.0347633   0.1729758   0.10144518]]\n"
     ]
    }
   ],
   "source": [
    "import numpy as np\n",
    "v = []\n",
    "for i in range(len(key_world)):\n",
    "    temp = model.wv[key_world[i]]\n",
    "    v.append(temp / np.linalg.norm(temp))\n",
    "    \n",
    "v = np.array(v).T\n",
    "print(v)"
   ]
  },
  {
   "cell_type": "code",
   "execution_count": 64,
   "metadata": {},
   "outputs": [
    {
     "name": "stdout",
     "output_type": "stream",
     "text": [
      "0.5619460646465471\n"
     ]
    }
   ],
   "source": [
    "word = 'government'\n",
    "w = np.array(model.wv[word])\n",
    "w = w / np.linalg.norm(w)\n",
    "\n",
    "# np.linalg.norm(np.dot(np.dot(v, np.dot(np.linalg.inv(np.dot(v.T, v)), v.T)), w.T))\n",
    "sum = 0 \n",
    "for i in range(len(key_world)):\n",
    "    sum += np.exp(abs(np.dot(w,v[:,i])))\n",
    "print(np.log(sum/4))"
   ]
  },
  {
   "cell_type": "code",
   "execution_count": 47,
   "metadata": {},
   "outputs": [
    {
     "name": "stdout",
     "output_type": "stream",
     "text": [
      "0.15075526538256456\n"
     ]
    }
   ],
   "source": []
  },
  {
   "cell_type": "code",
   "execution_count": null,
   "metadata": {},
   "outputs": [],
   "source": []
  },
  {
   "cell_type": "code",
   "execution_count": null,
   "metadata": {},
   "outputs": [],
   "source": []
  }
 ],
 "metadata": {
  "kernelspec": {
   "display_name": "Python 3",
   "language": "python",
   "name": "python3"
  },
  "language_info": {
   "codemirror_mode": {
    "name": "ipython",
    "version": 3
   },
   "file_extension": ".py",
   "mimetype": "text/x-python",
   "name": "python",
   "nbconvert_exporter": "python",
   "pygments_lexer": "ipython3",
   "version": "3.7.1"
  }
 },
 "nbformat": 4,
 "nbformat_minor": 2
}
