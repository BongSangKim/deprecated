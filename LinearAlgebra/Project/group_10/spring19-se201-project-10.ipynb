{
 "cells": [
  {
   "cell_type": "markdown",
   "metadata": {},
   "source": [
    "# Project 10\n",
    "\n",
    "* 영화 리뷰를 분석하여 영화의 재미 요소를 분석. (영화 장르 분석 아님)\n",
    "* 전체 영화 리뷰 학습.\n",
    "* 영화를 구성하는 요소를 가리키는 기저 단어를 찾고, 각 재미 요소를 결정짓는 성분 분석.\n",
    "* 위 분석을 통해 특정 영화의 리뷰에 등장하는 단어를 학습시켜 재미 요소를 찾을 수 있는지 확인 "
   ]
  },
  {
   "cell_type": "code",
   "execution_count": 1,
   "metadata": {},
   "outputs": [
    {
     "name": "stderr",
     "output_type": "stream",
     "text": [
      "C:\\Users\\hyosa\\Anaconda3\\lib\\site-packages\\gensim\\utils.py:1197: UserWarning: detected Windows; aliasing chunkize to chunkize_serial\n",
      "  warnings.warn(\"detected Windows; aliasing chunkize to chunkize_serial\")\n"
     ]
    },
    {
     "data": {
      "text/plain": [
       "(129368479, 169992700)"
      ]
     },
     "execution_count": 1,
     "metadata": {},
     "output_type": "execute_result"
    }
   ],
   "source": [
    "import gensim \n",
    "from os import walk\n",
    "\n",
    "file_list = []\n",
    "current_path = \"../group_20/aclImdb/train/\"\n",
    "\n",
    "def read_input(current_path, file_list):\n",
    "    for (dirpath, dirnames, _) in walk(current_path):\n",
    "        for dirname in dirnames:\n",
    "            for (_, _, filenames) in walk(current_path + dirname):\n",
    "                for filename in filenames:\n",
    "                    with open(current_path + dirname + '/' + filename, encoding='utf-8') as file:\n",
    "                        for j, line in enumerate(file):\n",
    "                            yield gensim.utils.simple_preprocess(line)\n",
    "\n",
    "document = list(read_input(current_path, file_list))\n",
    "\n",
    "Imdb_review_model = gensim.models.Word2Vec (document, size=50, window=10, min_count=2, workers=4)\n",
    "Imdb_review_model.train(document, total_examples=len(document), epochs=10)"
   ]
  },
  {
   "cell_type": "code",
   "execution_count": 2,
   "metadata": {},
   "outputs": [
    {
     "data": {
      "text/plain": [
       "array([ 1.9626734 ,  4.2399545 , -2.8024628 ,  4.130389  ,  2.0931091 ,\n",
       "        2.7943933 , -2.916158  ,  4.703028  ,  5.566028  , -0.43444416,\n",
       "        2.4839494 ,  0.9874864 ,  0.70386666, -5.877556  , -4.0919476 ,\n",
       "        1.8312435 , -0.38619152, -0.61231303,  2.0354528 ,  0.66812974,\n",
       "       -1.26193   ,  0.09878013,  4.0229554 ,  0.04197988, -1.4265617 ,\n",
       "       -3.799894  ,  2.2126617 ,  2.9075525 , -0.28324008, -3.6375926 ,\n",
       "        5.0145974 , -0.88085085,  1.6820583 ,  1.602927  ,  1.7387145 ,\n",
       "       -0.4052896 , -2.5065067 ,  6.40973   ,  0.5587249 , -3.083036  ,\n",
       "        1.6676232 , -2.4113271 ,  1.9121791 ,  4.443365  ,  3.2512238 ,\n",
       "       -4.8519506 , -0.39640316, -0.57349974, -3.0464766 , -1.1380874 ],\n",
       "      dtype=float32)"
      ]
     },
     "execution_count": 2,
     "metadata": {},
     "output_type": "execute_result"
    }
   ],
   "source": [
    "Imdb_review_model.wv['fun']"
   ]
  },
  {
   "cell_type": "code",
   "execution_count": 4,
   "metadata": {},
   "outputs": [
    {
     "data": {
      "text/plain": [
       "[('entertaining', 0.7197267413139343),\n",
       " ('funny', 0.7046216726303101),\n",
       " ('enjoyable', 0.7038799524307251),\n",
       " ('laughs', 0.6253747940063477),\n",
       " ('watchable', 0.6122944951057434),\n",
       " ('scary', 0.6107514500617981),\n",
       " ('campy', 0.6027714610099792),\n",
       " ('good', 0.5888934135437012),\n",
       " ('worth', 0.5884804725646973),\n",
       " ('laugh', 0.5869355201721191),\n",
       " ('amusing', 0.586571455001831),\n",
       " ('cheesy', 0.5811032652854919),\n",
       " ('popcorn', 0.573393702507019),\n",
       " ('addictive', 0.5638667345046997),\n",
       " ('silliness', 0.5594998598098755),\n",
       " ('lighthearted', 0.5562014579772949),\n",
       " ('comedy', 0.5541406869888306),\n",
       " ('worthwhile', 0.5514662265777588),\n",
       " ('humor', 0.5501068234443665),\n",
       " ('goofy', 0.5451074242591858)]"
      ]
     },
     "execution_count": 4,
     "metadata": {},
     "output_type": "execute_result"
    }
   ],
   "source": [
    "Imdb_review_model.wv.most_similar(positive = ['fun'], topn=20)"
   ]
  },
  {
   "cell_type": "code",
   "execution_count": 12,
   "metadata": {},
   "outputs": [
    {
     "data": {
      "text/plain": [
       "[('mullers', 0.6327378749847412),\n",
       " ('dispensation', 0.6283209323883057),\n",
       " ('neurasthenia', 0.604059100151062),\n",
       " ('interrogates', 0.6011544466018677),\n",
       " ('epithet', 0.600537896156311),\n",
       " ('segregating', 0.5952950716018677),\n",
       " ('midori', 0.5848098993301392),\n",
       " ('pronouncement', 0.5810747742652893),\n",
       " ('designation', 0.5804493427276611),\n",
       " ('paralysis', 0.5787739753723145),\n",
       " ('notify', 0.5767640471458435),\n",
       " ('accosts', 0.570834755897522),\n",
       " ('responders', 0.570712685585022),\n",
       " ('involvements', 0.5705764293670654),\n",
       " ('kahlil', 0.5671861171722412),\n",
       " ('christmanish', 0.5615667104721069),\n",
       " ('freccia', 0.5600200295448303),\n",
       " ('herati', 0.5593158006668091),\n",
       " ('hicksville', 0.5579496026039124),\n",
       " ('avalyn', 0.5576185584068298)]"
      ]
     },
     "execution_count": 12,
     "metadata": {},
     "output_type": "execute_result"
    }
   ],
   "source": [
    "Imdb_review_model.wv.most_similar(negative = ['good'], topn=20)"
   ]
  },
  {
   "cell_type": "markdown",
   "metadata": {},
   "source": [
    "미리 학습 시킨 모델에서 리뷰에 등장하는 모든 단어와 기저 단어 (예를 들어 entertaining, horror, cute, love, action) 간의 유사성 (코사인 값)의 평균을 구해서 영화의 재미 요소를 분석"
   ]
  },
  {
   "cell_type": "code",
   "execution_count": 66,
   "metadata": {},
   "outputs": [
    {
     "name": "stdout",
     "output_type": "stream",
     "text": [
      "[0.14256373 0.10643349 0.08020781 0.04523052 0.11495   ]\n"
     ]
    }
   ],
   "source": [
    "import numpy as np\n",
    "\n",
    "wordcat = ['entertaining', 'horror', 'cute', 'love', 'action']\n",
    "v = []\n",
    "for word in wordcat:\n",
    "    v.append(Imdb_review_model.wv[word])\n",
    "    \n",
    "vocablist = []\n",
    "for word, vect in Imdb_review_model.wv.vocab.items():\n",
    "    vocablist.append(word)\n",
    "\n",
    "file_list = []\n",
    "current_path = \"./\"\n",
    "sumdot = [0,0,0,0,0]\n",
    "numsum = [0,0,0,0,0]\n",
    "for (_, _, filenames) in walk(current_path):\n",
    "    with open(\"1.txt\", encoding='utf-8') as file:\n",
    "        for j, line in enumerate(file):\n",
    "            wordlist = gensim.utils.simple_preprocess(line)\n",
    "            for word in wordlist:\n",
    "                if word in vocablist:\n",
    "                    for i in range(len(v)):\n",
    "                        dotnum = np.dot(v[i], Imdb_review_model.wv[word]) / np.linalg.norm(v[i]) / np.linalg.norm(Imdb_review_model.wv[word])\n",
    "                        #print(dotnum)\n",
    "                        sumdot[i] += dotnum\n",
    "                        #print(sumdot[i])\n",
    "                        numsum[i] += 1\n",
    "                        #print(numsum[i])\n",
    "print(np.array(sumdot)/np.array(numsum))"
   ]
  }
 ],
 "metadata": {
  "kernelspec": {
   "display_name": "Python 3",
   "language": "python",
   "name": "python3"
  },
  "language_info": {
   "codemirror_mode": {
    "name": "ipython",
    "version": 3
   },
   "file_extension": ".py",
   "mimetype": "text/x-python",
   "name": "python",
   "nbconvert_exporter": "python",
   "pygments_lexer": "ipython3",
   "version": "3.7.1"
  }
 },
 "nbformat": 4,
 "nbformat_minor": 2
}
