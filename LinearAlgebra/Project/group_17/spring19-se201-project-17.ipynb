{
 "cells": [
  {
   "cell_type": "markdown",
   "metadata": {},
   "source": [
    "# Project 17\n",
    "\n",
    "* 지난 대선 주요 후보 기사 분석\n",
    "* 한글 텍스트 분석으로 koNLPy 사용 (https://konlpy-ko.readthedocs.io/ko/v0.4.3/#) 설치 까다로움\n",
    "* 아래는 koNLPy를 이용한 단어 분해 결과임"
   ]
  },
  {
   "cell_type": "code",
   "execution_count": 3,
   "metadata": {},
   "outputs": [
    {
     "name": "stdout",
     "output_type": "stream",
     "text": [
      "['네, 안녕하세요.', '반갑습니다.']\n",
      "['질문', '건의', '건의사항', '사항', '깃헙', '이슈', '트래커']\n",
      "[('오류', 'NNG'),\n",
      " ('보고', 'NNG'),\n",
      " ('는', 'JX'),\n",
      " ('실행', 'NNG'),\n",
      " ('환경', 'NNG'),\n",
      " (',', 'SP'),\n",
      " ('에러', 'NNG'),\n",
      " ('메세지', 'NNG'),\n",
      " ('와', 'JKM'),\n",
      " ('함께', 'MAG'),\n",
      " ('설명', 'NNG'),\n",
      " ('을', 'JKO'),\n",
      " ('최대한', 'NNG'),\n",
      " ('상세히', 'MAG'),\n",
      " ('!', 'SF'),\n",
      " ('^^', 'EMO')]\n"
     ]
    }
   ],
   "source": [
    "from konlpy import init_jvm\n",
    "from konlpy.tag import Kkma\n",
    "from konlpy.utils import pprint\n",
    "# init_jvm(\"C:\\Program Files\\Java\\jdk-12.0.1\\bin\\server\\jvm.dll\")\n",
    "\n",
    "# kkma = Kkma(\"C:\\Program Files\\Java\\jdk-12.0.1\\bin\\server\\jvm.dll\")\n",
    "kkma = Kkma()\n",
    "pprint(kkma.sentences('네, 안녕하세요. 반갑습니다.'))\n",
    "pprint(kkma.nouns('질문이나 건의사항은 깃헙 이슈 트래커에 남겨주세요.'))\n",
    "pprint(kkma.pos('오류보고는 실행환경, 에러메세지와함께 설명을 최대한상세히!^^'))"
   ]
  },
  {
   "cell_type": "code",
   "execution_count": 22,
   "metadata": {},
   "outputs": [
    {
     "name": "stdout",
     "output_type": "stream",
     "text": [
      "['본문']\n",
      "본문 [('본문', 'NNG')]\n",
      "['지난', '국민의당을', '시작으로', '새누리당', '더불어민주당이', '원내대표를', '뽑는다', '이번에', '선출될', '원내대표는', '새롭게', '형성된', '구도의', '국회에서', '년간', '협상의', '정치를', '개척할', '중책을', '맡게', '된다', '최근', '국민의당이', '헤비급', '박지원', '의원을', '원내대표로', '선출하면서', '더민주와', '새누리당', '원내대표', '선거', '구도까지', '흔들리고', '있다', '정치권의', '뜨거운', '이슈']\n",
      "지난 [('지나', 'VV'), ('ㄴ', 'ETD')]\n",
      "국민의당을 [('국민', 'NNG'), ('의', 'JKG'), ('당', 'NNG'), ('을', 'JKO')]\n",
      "시작으로 [('시작', 'NNG'), ('으로', 'JKM')]\n",
      "새누리당 [('새', 'MDT'), ('누리', 'NNG'), ('당', 'XSN')]\n",
      "더불어민주당이 [('더불', 'VV'), ('어', 'ECD'), ('민주당', 'NNG'), ('이', 'JKS')]\n",
      "원내대표를 [('원내', 'NNG'), ('대표', 'NNG'), ('를', 'JKO')]\n",
      "뽑는다 [('뽑', 'VV'), ('는', 'EPT'), ('다', 'EFN')]\n",
      "이번에 [('이번', 'NNG'), ('에', 'JKM')]\n",
      "선출될 [('선출', 'NNG'), ('되', 'XSV'), ('ㄹ', 'ETD')]\n",
      "원내대표는 [('원내', 'NNG'), ('대표', 'NNG'), ('는', 'JX')]\n",
      "새롭게 [('새롭', 'VA'), ('게', 'ECD')]\n",
      "형성된 [('형성', 'NNG'), ('되', 'XSV'), ('ㄴ', 'ETD')]\n",
      "구도의 [('구도', 'NNG'), ('의', 'JKG')]\n",
      "국회에서 [('국회', 'NNG'), ('에서', 'JKM')]\n",
      "년간 [('년', 'NNB'), ('간', 'NNB')]\n",
      "협상의 [('협상', 'NNG'), ('의', 'JKG')]\n",
      "정치를 [('정치', 'NNG'), ('를', 'JKO')]\n",
      "개척할 [('개척', 'NNG'), ('하', 'XSV'), ('ㄹ', 'ETD')]\n",
      "중책을 [('중책', 'NNG'), ('을', 'JKO')]\n",
      "맡게 [('맡', 'VV'), ('게', 'ECD')]\n",
      "된다 [('되', 'VV'), ('ㄴ다', 'EFN')]\n",
      "최근 [('최근', 'NNG')]\n",
      "국민의당이 [('국민', 'NNG'), ('의', 'JKG'), ('당', 'NNG'), ('이', 'JKS')]\n",
      "헤비급 [('헤비급', 'NNG')]\n",
      "박지원 [('박지원', 'NNG')]\n",
      "의원을 [('의원', 'NNG'), ('을', 'JKO')]\n",
      "원내대표로 [('원내', 'NNG'), ('대표', 'NNG'), ('로', 'JKM')]\n",
      "선출하면서 [('선출', 'NNG'), ('하', 'XSV'), ('면서', 'ECE')]\n",
      "더민주와 [('더', 'MAG'), ('민주', 'NNG'), ('와', 'JC')]\n",
      "새누리당 [('새', 'MDT'), ('누리', 'NNG'), ('당', 'XSN')]\n",
      "원내대표 [('원내', 'NNG'), ('대표', 'NNG')]\n",
      "선거 [('선거', 'NNG')]\n",
      "구도까지 [('구도', 'NNG'), ('까지', 'JX')]\n",
      "흔들리고 [('흔들리', 'VV'), ('고', 'ECE')]\n",
      "있다 [('있', 'VXV'), ('다', 'EFN')]\n",
      "정치권의 [('정치권', 'NNG'), ('의', 'JKG')]\n",
      "뜨거운 [('뜨겁', 'VA'), ('ㄴ', 'ETD')]\n",
      "이슈 [('이슈', 'NNG')]\n"
     ]
    }
   ],
   "source": [
    "import csv\n",
    "import gensim\n",
    "\n",
    "text = []\n",
    "with open('hong.csv', encoding='utf-8') as csvfile:\n",
    "    news = csv.reader(csvfile, delimiter=\",\", quotechar='\"')\n",
    "    idx = 0\n",
    "    for row in news:\n",
    "        line = row[5]\n",
    "        preprocessing = gensim.utils.simple_preprocess(line)\n",
    "        if idx < 2:\n",
    "            print(preprocessing)\n",
    "            for word in preprocessing:\n",
    "                print(word, kkma.pos(word))\n",
    "        idx += 1"
   ]
  },
  {
   "cell_type": "code",
   "execution_count": null,
   "metadata": {},
   "outputs": [],
   "source": [
    "new"
   ]
  }
 ],
 "metadata": {
  "kernelspec": {
   "display_name": "Python 3",
   "language": "python",
   "name": "python3"
  },
  "language_info": {
   "codemirror_mode": {
    "name": "ipython",
    "version": 3
   },
   "file_extension": ".py",
   "mimetype": "text/x-python",
   "name": "python",
   "nbconvert_exporter": "python",
   "pygments_lexer": "ipython3",
   "version": "3.7.1"
  }
 },
 "nbformat": 4,
 "nbformat_minor": 2
}
