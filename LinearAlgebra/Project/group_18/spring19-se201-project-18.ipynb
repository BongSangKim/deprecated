{
 "cells": [
  {
   "cell_type": "markdown",
   "metadata": {},
   "source": [
    "# Project 18\n",
    "\n",
    "* 각 나라 헌법을 분석하여 나라의 특성 (예를 들어 이슬람, 비이슬람 등) 사이에 강조하는 이념이 어떻게 다른지 분석\n",
    "* 문장 사이에 엔터가 있으면 한 문장으로 인식하지 않음. 직접 수정하던지, 코딩해서 하나의 문장으로 만들 것."
   ]
  },
  {
   "cell_type": "code",
   "execution_count": 15,
   "metadata": {},
   "outputs": [],
   "source": [
    "import gensim \n",
    "\n",
    "afgan = str()\n",
    "with open(\"afganistan.csv\", encoding='utf-8') as file:\n",
    "    for j, line in enumerate(file):\n",
    "        afgan += line[:-1]\n",
    "\n",
    "afgan_text = []\n",
    "afgan_text.append(gensim.utils.simple_preprocess(afgan))"
   ]
  },
  {
   "cell_type": "code",
   "execution_count": 18,
   "metadata": {},
   "outputs": [
    {
     "data": {
      "text/plain": [
       "(3344034, 5361500)"
      ]
     },
     "execution_count": 18,
     "metadata": {},
     "output_type": "execute_result"
    }
   ],
   "source": [
    "afgan_model = gensim.models.Word2Vec (afgan_text, size=5, window=10, min_count=1, workers=4)\n",
    "afgan_model.train(afgan_text, total_examples=len(afgan), epochs=500)"
   ]
  },
  {
   "cell_type": "code",
   "execution_count": 21,
   "metadata": {},
   "outputs": [
    {
     "name": "stdout",
     "output_type": "stream",
     "text": [
      "the 1126\n",
      "of 852\n",
      "shall 406\n",
      "and 312\n",
      "as 245\n",
      "be 232\n",
      "in 204\n",
      "to 180\n",
      "article 165\n",
      "afghanistan 118\n",
      "one 113\n",
      "well 113\n",
      "constitution 110\n",
      "by 108\n",
      "law 107\n",
      "with 87\n",
      "national 86\n",
      "state 84\n",
      "president 75\n",
      "for 75\n",
      "hundred 75\n",
      "provisions 74\n",
      "or 74\n",
      "house 67\n",
      "assembly 66\n",
      "this 65\n",
      "court 59\n",
      "people 57\n",
      "islamic 56\n",
      "republic 55\n",
      "members 55\n",
      "accordance 53\n",
      "not 47\n",
      "have 41\n",
      "two 40\n",
      "on 37\n",
      "supreme 37\n",
      "its 34\n",
      "from 31\n",
      "duties 31\n",
      "is 30\n",
      "thirty 30\n",
      "other 29\n",
      "rights 28\n",
      "regulated 27\n",
      "laws 27\n",
      "if 27\n",
      "country 25\n",
      "loya 25\n",
      "chapter 25\n",
      "government 25\n",
      "all 25\n",
      "their 25\n",
      "fifty 25\n",
      "jirga 24\n",
      "an 24\n",
      "right 24\n",
      "term 24\n",
      "twenty 23\n",
      "forty 23\n",
      "during 23\n",
      "related 21\n",
      "after 21\n",
      "elections 21\n",
      "three 20\n",
      "within 20\n",
      "no 20\n",
      "year 20\n",
      "individual 19\n",
      "according 19\n",
      "general 19\n",
      "sixty 19\n",
      "four 18\n",
      "accused 18\n",
      "vice 18\n",
      "first 18\n",
      "budget 18\n",
      "articles 17\n",
      "without 17\n",
      "it 17\n",
      "following 17\n",
      "citizens 16\n",
      "seven 16\n",
      "every 16\n",
      "necessary 16\n",
      "case 16\n",
      "presidential 16\n",
      "ministers 16\n",
      "at 15\n",
      "which 15\n",
      "order 15\n",
      "commission 15\n",
      "sessions 15\n",
      "courts 15\n",
      "any 14\n",
      "nine 14\n",
      "human 14\n",
      "legislative 14\n",
      "presidents 14\n",
      "endorsement 14\n"
     ]
    }
   ],
   "source": [
    "wordlist = []\n",
    "count = []\n",
    "for word, obj in afgan_model.wv.vocab.items():\n",
    "    wordlist.append(word)\n",
    "    count.append(obj.count)\n",
    "for _ in range(100):\n",
    "    idx = count.index(max(count))\n",
    "    print(wordlist[idx], max(count))\n",
    "    del count[idx]\n",
    "    del wordlist[idx]"
   ]
  },
  {
   "cell_type": "code",
   "execution_count": 27,
   "metadata": {},
   "outputs": [
    {
     "data": {
      "text/plain": [
       "[('provision', 0.9985558986663818),\n",
       " ('bounds', 0.9979755878448486),\n",
       " ('sell', 0.9717522263526917),\n",
       " ('administering', 0.9714592099189758),\n",
       " ('craft', 0.9670060873031616),\n",
       " ('befree', 0.9620873332023621),\n",
       " ('due', 0.9501314759254456),\n",
       " ('occupation', 0.9429292678833008),\n",
       " ('submit', 0.9393365383148193),\n",
       " ('defined', 0.9292414784431458),\n",
       " ('regulated', 0.9256298542022705),\n",
       " ('oneforeign', 0.9243741035461426),\n",
       " ('provisions', 0.9235391616821289),\n",
       " ('involving', 0.9211474061012268),\n",
       " ('nineno', 0.9158505201339722),\n",
       " ('choice', 0.9156232476234436),\n",
       " ('accordance', 0.8999888896942139),\n",
       " ('requirements', 0.8917907476425171),\n",
       " ('andother', 0.8888542652130127),\n",
       " ('bestow', 0.8878176212310791),\n",
       " ('obliged', 0.8835361003875732),\n",
       " ('ofexercising', 0.8825777769088745),\n",
       " ('goals', 0.8824955821037292),\n",
       " ('deserving', 0.8817490339279175),\n",
       " ('elevenmatters', 0.8814432621002197),\n",
       " ('openly', 0.8793059587478638),\n",
       " ('shia', 0.877386212348938),\n",
       " ('labor', 0.8773268461227417),\n",
       " ('forcompulsory', 0.8770951628684998),\n",
       " ('experiences', 0.8767703771591187),\n",
       " ('material', 0.8763825297355652),\n",
       " ('independent', 0.8758116364479065),\n",
       " ('forty', 0.8742839694023132),\n",
       " ('accordancewith', 0.8705021739006042),\n",
       " ('moral', 0.8703783750534058),\n",
       " ('supervision', 0.8679893016815186),\n",
       " ('forced', 0.8651597499847412),\n",
       " ('economy', 0.8643643856048584),\n",
       " ('establishing', 0.8607673645019531),\n",
       " ('observance', 0.8600299954414368)]"
      ]
     },
     "execution_count": 27,
     "metadata": {},
     "output_type": "execute_result"
    }
   ],
   "source": [
    "afgan_model.wv.most_similar(positive = ['law'], topn=40)"
   ]
  },
  {
   "cell_type": "code",
   "execution_count": 25,
   "metadata": {},
   "outputs": [
    {
     "data": {
      "text/plain": [
       "(3742717, 5597000)"
      ]
     },
     "execution_count": 25,
     "metadata": {},
     "output_type": "execute_result"
    }
   ],
   "source": [
    "import gensim \n",
    "\n",
    "italia_text = []\n",
    "with open(\"italia.txt\") as file:\n",
    "    for j, line in enumerate(file):\n",
    "        italia_text.append(gensim.utils.simple_preprocess(line))\n",
    "\n",
    "italia_model = gensim.models.Word2Vec (italia_text, size=5, window=10, min_count=1, workers=4)\n",
    "italia_model.train(italia_text, total_examples=len(italia_text), epochs=500)"
   ]
  },
  {
   "cell_type": "code",
   "execution_count": 29,
   "metadata": {},
   "outputs": [
    {
     "data": {
      "text/plain": [
       "[('rules', 0.989783525466919),\n",
       " ('budget', 0.9887518882751465),\n",
       " ('conducted', 0.9820746183395386),\n",
       " ('necessity', 0.9690515995025635),\n",
       " ('become', 0.9688712954521179),\n",
       " ('setting', 0.9682657122612),\n",
       " ('tribunals', 0.964898407459259),\n",
       " ('military', 0.9592328071594238),\n",
       " ('expenditures', 0.9504001140594482),\n",
       " ('thus', 0.9477245807647705),\n",
       " ('magistrates', 0.9472134709358215),\n",
       " ('supreme', 0.9449986219406128),\n",
       " ('authorise', 0.944083034992218),\n",
       " ('vest', 0.939297080039978),\n",
       " ('war', 0.9344626665115356),\n",
       " ('appointing', 0.9319450855255127),\n",
       " ('involve', 0.9313417077064514),\n",
       " ('criteria', 0.9296303391456604),\n",
       " ('in', 0.9144636392593384),\n",
       " ('provisions', 0.9082359671592712),\n",
       " ('defined', 0.9081889986991882),\n",
       " ('cases', 0.9065242409706116),\n",
       " ('distinguished', 0.9053196907043457),\n",
       " ('procedures', 0.9048992395401001),\n",
       " ('judiciary', 0.9037490487098694),\n",
       " ('themselves', 0.9008159637451172),\n",
       " ('pass', 0.8947829008102417),\n",
       " ('provision', 0.8931924700737),\n",
       " ('declarations', 0.8908708691596985),\n",
       " ('ordinary', 0.8891515135765076),\n",
       " ('taxes', 0.8874724507331848),\n",
       " ('prosecutor', 0.8863649368286133),\n",
       " ('waived', 0.8821183443069458),\n",
       " ('declare', 0.8805608153343201),\n",
       " ('conclusively', 0.8724331259727478),\n",
       " ('impeached', 0.8710458874702454),\n",
       " ('strike', 0.8701531291007996),\n",
       " ('delegations', 0.8697352409362793),\n",
       " ('treaties', 0.8690824508666992),\n",
       " ('deadline', 0.8687191605567932)]"
      ]
     },
     "execution_count": 29,
     "metadata": {},
     "output_type": "execute_result"
    }
   ],
   "source": [
    "italia_model.wv.most_similar( positive = ['law'], topn=40)"
   ]
  },
  {
   "cell_type": "code",
   "execution_count": 31,
   "metadata": {},
   "outputs": [
    {
     "name": "stdout",
     "output_type": "stream",
     "text": [
      "the 1211\n",
      "of 748\n",
      "and 464\n",
      "to 265\n",
      "in 229\n",
      "by 191\n",
      "be 161\n",
      "law 159\n",
      "shall 155\n",
      "art 141\n",
      "for 132\n",
      "or 110\n",
      "may 107\n",
      "is 97\n",
      "republic 88\n",
      "with 78\n",
      "are 77\n",
      "state 69\n",
      "president 69\n",
      "as 63\n",
      "not 63\n",
      "on 62\n",
      "parliament 59\n",
      "their 55\n",
      "its 47\n",
      "regional 46\n",
      "such 45\n",
      "council 44\n",
      "members 44\n",
      "have 43\n",
      "public 41\n",
      "that 41\n",
      "regions 41\n",
      "it 40\n",
      "constitutional 39\n",
      "right 39\n",
      "established 39\n",
      "constitution 38\n",
      "which 35\n",
      "from 34\n",
      "within 33\n",
      "other 31\n",
      "an 30\n",
      "those 29\n",
      "has 28\n",
      "no 28\n",
      "any 28\n",
      "house 28\n",
      "court 27\n",
      "cases 27\n",
      "government 27\n",
      "elected 27\n",
      "laws 26\n",
      "one 26\n",
      "region 26\n",
      "functions 26\n",
      "provisions 25\n",
      "all 25\n",
      "they 24\n",
      "at 24\n",
      "title 22\n",
      "organisation 22\n",
      "judiciary 22\n",
      "majority 22\n",
      "section 21\n",
      "social 21\n",
      "legislation 21\n",
      "been 21\n",
      "judges 21\n",
      "rights 20\n",
      "case 20\n",
      "provinces 20\n",
      "bodies 19\n",
      "before 19\n",
      "each 19\n",
      "powers 19\n",
      "citizens 18\n",
      "houses 18\n",
      "who 18\n",
      "only 18\n",
      "municipalities 18\n",
      "office 17\n",
      "every 17\n",
      "administrative 17\n",
      "legal 17\n",
      "international 17\n",
      "when 17\n",
      "if 17\n",
      "through 17\n",
      "years 17\n",
      "this 16\n",
      "legislative 16\n",
      "ministers 16\n",
      "measures 16\n",
      "exercise 16\n",
      "general 16\n",
      "special 16\n",
      "matters 16\n",
      "senate 15\n",
      "principles 15\n"
     ]
    }
   ],
   "source": [
    "wordlist = []\n",
    "count = []\n",
    "for word, obj in italia_model.wv.vocab.items():\n",
    "    wordlist.append(word)\n",
    "    count.append(obj.count)\n",
    "for _ in range(100):\n",
    "    idx = count.index(max(count))\n",
    "    print(wordlist[idx], max(count))\n",
    "    del count[idx]\n",
    "    del wordlist[idx]"
   ]
  },
  {
   "cell_type": "markdown",
   "metadata": {},
   "source": [
    "특정 단어를 구성하는 기저 단어의 성분 분석."
   ]
  },
  {
   "cell_type": "code",
   "execution_count": 48,
   "metadata": {},
   "outputs": [
    {
     "name": "stdout",
     "output_type": "stream",
     "text": [
      "0.8550862 0.34810692\n",
      "0.4503759 0.18077704\n"
     ]
    }
   ],
   "source": [
    "import numpy as np\n",
    "\n",
    "v1 = 'law'\n",
    "v2 = 'government'\n",
    "\n",
    "w = italia_model.wv['people']\n",
    "w = w / np.linalg.norm(w)\n",
    "italia_1 = italia_model.wv[v1] \n",
    "italia_1 = italia_1 / np.linalg.norm(italia_1)\n",
    "italia_2 = italia_model.wv[v2]\n",
    "italia_2 = italia_2 / np.linalg.norm(italia_2)\n",
    "\n",
    "print(np.dot(w,italia_1), np.dot(w,italia_2))\n",
    "\n",
    "w = afgan_model.wv['people']\n",
    "w = w / np.linalg.norm(w)\n",
    "afgan_1 = afgan_model.wv[v1] \n",
    "afgan_1 = afgan_1 / np.linalg.norm(afgan_1)\n",
    "afgan_2 = afgan_model.wv[v2]\n",
    "afgan_2 = afgan_2 / np.linalg.norm(afgan_2)\n",
    "\n",
    "print(np.dot(w,afgan_1), np.dot(w,afgan_2))"
   ]
  },
  {
   "cell_type": "code",
   "execution_count": null,
   "metadata": {},
   "outputs": [],
   "source": []
  },
  {
   "cell_type": "code",
   "execution_count": null,
   "metadata": {},
   "outputs": [],
   "source": []
  },
  {
   "cell_type": "code",
   "execution_count": null,
   "metadata": {},
   "outputs": [],
   "source": []
  },
  {
   "cell_type": "code",
   "execution_count": null,
   "metadata": {},
   "outputs": [],
   "source": []
  }
 ],
 "metadata": {
  "kernelspec": {
   "display_name": "Python 3",
   "language": "python",
   "name": "python3"
  },
  "language_info": {
   "codemirror_mode": {
    "name": "ipython",
    "version": 3
   },
   "file_extension": ".py",
   "mimetype": "text/x-python",
   "name": "python",
   "nbconvert_exporter": "python",
   "pygments_lexer": "ipython3",
   "version": "3.7.1"
  }
 },
 "nbformat": 4,
 "nbformat_minor": 2
}
