{
 "cells": [
  {
   "cell_type": "markdown",
   "metadata": {},
   "source": [
    "# Project 4\n",
    "\n",
    "* 소설 속 단어의 의미 분석, 단테 신곡, 파우스트 등\n",
    "* 각 소설 마다 단어학습, 양이 적으므로 epoch를 늘릴 것.\n",
    "* 중심단어(예를 들어 heaven, hell등)를 구성하는 basis 단어 찾기\n",
    "* 각 소설마다 특정 단어를 표현하는 basis 단어들의 선형결합 찾기"
   ]
  },
  {
   "cell_type": "code",
   "execution_count": 3,
   "metadata": {},
   "outputs": [
    {
     "data": {
      "text/plain": [
       "(10167931, 14408100)"
      ]
     },
     "execution_count": 3,
     "metadata": {},
     "output_type": "execute_result"
    }
   ],
   "source": [
    "import gensim \n",
    "\n",
    "dante = []\n",
    "with open(\"the divine comedy_inferno.txt\", encoding='utf-8') as file:\n",
    "    for j, line in enumerate(file):\n",
    "        dante.append(gensim.utils.simple_preprocess(line))\n",
    "with open(\"the divine comedy_paradiso.txt\", encoding='utf-8') as file:\n",
    "    for j, line in enumerate(file):\n",
    "        dante.append(gensim.utils.simple_preprocess(line))\n",
    "\n",
    "dante_model = gensim.models.Word2Vec (dante, size=10, window=10, min_count=2, workers=4)\n",
    "dante_model.train(dante, total_examples=len(dante), epochs=100)"
   ]
  },
  {
   "cell_type": "code",
   "execution_count": 8,
   "metadata": {},
   "outputs": [
    {
     "data": {
      "text/plain": [
       "[('spring', 0.8767658472061157),\n",
       " ('rahab', 0.8578795790672302),\n",
       " ('grasped', 0.8546309471130371),\n",
       " ('light', 0.8512762188911438),\n",
       " ('goods', 0.8474719524383545),\n",
       " ('whate', 0.8447120189666748),\n",
       " ('bond', 0.8437014818191528),\n",
       " ('realm', 0.8385696411132812),\n",
       " ('wafted', 0.8344904780387878),\n",
       " ('mystery', 0.8343434929847717)]"
      ]
     },
     "execution_count": 8,
     "metadata": {},
     "output_type": "execute_result"
    }
   ],
   "source": [
    "dante_model.wv.most_similar(positive = ['heaven'], topn=10)"
   ]
  },
  {
   "cell_type": "code",
   "execution_count": 13,
   "metadata": {},
   "outputs": [
    {
     "name": "stdout",
     "output_type": "stream",
     "text": [
      "157\n",
      "27\n"
     ]
    }
   ],
   "source": [
    "print(dante_model.wv.vocab['heaven'].count)\n",
    "print(dante_model.wv.vocab['paradise'].count)"
   ]
  },
  {
   "cell_type": "code",
   "execution_count": 21,
   "metadata": {},
   "outputs": [
    {
     "data": {
      "text/plain": [
       "(49121042, 67905600)"
      ]
     },
     "execution_count": 21,
     "metadata": {},
     "output_type": "execute_result"
    }
   ],
   "source": [
    "faust = []\n",
    "with open(\"Faust.txt\", encoding='utf-8') as file:\n",
    "    for j, line in enumerate(file):\n",
    "        faust.append(gensim.utils.simple_preprocess(line))\n",
    "\n",
    "faust_model = gensim.models.Word2Vec (faust, size=10, window=10, min_count=2, workers=4)\n",
    "faust_model.train(faust, total_examples=len(faust), epochs=800)"
   ]
  },
  {
   "cell_type": "code",
   "execution_count": 23,
   "metadata": {},
   "outputs": [
    {
     "data": {
      "text/plain": [
       "[('pleasure', 0.9195694923400879),\n",
       " ('him', 0.9044198989868164),\n",
       " ('manto', 0.8956154584884644),\n",
       " ('feet', 0.8901764154434204),\n",
       " ('eyes', 0.889987587928772),\n",
       " ('inspired', 0.8834762573242188),\n",
       " ('chiron', 0.8751286864280701),\n",
       " ('wand', 0.8693597316741943),\n",
       " ('four', 0.8688700795173645),\n",
       " ('air', 0.865511953830719),\n",
       " ('uphold', 0.8611515760421753),\n",
       " ('corkscrew', 0.859840452671051),\n",
       " ('body', 0.8595802187919617),\n",
       " ('test', 0.8568400144577026),\n",
       " ('truth', 0.8499334454536438),\n",
       " ('affair', 0.8473954200744629),\n",
       " ('dust', 0.8464080095291138),\n",
       " ('haze', 0.844965398311615),\n",
       " ('teeth', 0.8382678031921387),\n",
       " ('flown', 0.8359533548355103),\n",
       " ('glass', 0.8332391977310181),\n",
       " ('meanwhile', 0.8310809135437012),\n",
       " ('glance', 0.8227536678314209),\n",
       " ('ear', 0.8219236135482788),\n",
       " ('vapour', 0.8198240995407104),\n",
       " ('powers', 0.8173522353172302),\n",
       " ('note', 0.8168352842330933),\n",
       " ('night', 0.8145121932029724),\n",
       " ('leapt', 0.812332034111023),\n",
       " ('sweep', 0.8109689950942993),\n",
       " ('labour', 0.8099457025527954),\n",
       " ('key', 0.8015648722648621),\n",
       " ('smile', 0.8014876246452332),\n",
       " ('groan', 0.801210880279541),\n",
       " ('son', 0.8010110259056091),\n",
       " ('plenty', 0.7997938394546509),\n",
       " ('mount', 0.7986457943916321),\n",
       " ('partnership', 0.7981892824172974),\n",
       " ('pierced', 0.7956507802009583),\n",
       " ('them', 0.7943426370620728),\n",
       " ('circle', 0.7929394245147705),\n",
       " ('clearly', 0.7924097776412964),\n",
       " ('lowest', 0.7923498749732971),\n",
       " ('loveliest', 0.7913087010383606),\n",
       " ('wing', 0.7896413803100586),\n",
       " ('force', 0.7879574298858643),\n",
       " ('marching', 0.7870197296142578),\n",
       " ('circumstance', 0.7870173454284668),\n",
       " ('everyone', 0.7853695154190063),\n",
       " ('cargo', 0.785192608833313)]"
      ]
     },
     "execution_count": 23,
     "metadata": {},
     "output_type": "execute_result"
    }
   ],
   "source": [
    "faust_model.wv.most_similar(positive = ['heaven'], topn=50)"
   ]
  },
  {
   "cell_type": "code",
   "execution_count": 25,
   "metadata": {},
   "outputs": [
    {
     "data": {
      "text/plain": [
       "[('smile', 0.9484747648239136),\n",
       " ('mount', 0.9234170317649841),\n",
       " ('torch', 0.9197949171066284),\n",
       " ('heaven', 0.9195694923400879),\n",
       " ('eyes', 0.9122760891914368),\n",
       " ('him', 0.9096648693084717),\n",
       " ('manto', 0.9021127223968506),\n",
       " ('glass', 0.9014135003089905),\n",
       " ('test', 0.8996266722679138),\n",
       " ('four', 0.8840608596801758),\n",
       " ('seated', 0.8794056177139282),\n",
       " ('body', 0.87898850440979),\n",
       " ('feet', 0.8779118657112122),\n",
       " ('clearly', 0.8757643699645996),\n",
       " ('sweep', 0.8731740713119507),\n",
       " ('pace', 0.869948148727417),\n",
       " ('pierced', 0.8615033030509949),\n",
       " ('son', 0.8593360185623169),\n",
       " ('us', 0.8591547608375549),\n",
       " ('glance', 0.8533528447151184),\n",
       " ('them', 0.8526996374130249),\n",
       " ('affair', 0.842816174030304),\n",
       " ('haze', 0.8425584435462952),\n",
       " ('pitch', 0.8412446975708008),\n",
       " ('course', 0.8340138792991638),\n",
       " ('parents', 0.8310118317604065),\n",
       " ('plenty', 0.8254592418670654),\n",
       " ('vapour', 0.8247354030609131),\n",
       " ('giants', 0.8213830590248108),\n",
       " ('shelter', 0.8208608627319336),\n",
       " ('tribe', 0.8199112415313721),\n",
       " ('rest', 0.8194597959518433),\n",
       " ('dawn', 0.8100162148475647),\n",
       " ('yourselves', 0.8067699670791626),\n",
       " ('dwarves', 0.8057970404624939),\n",
       " ('their', 0.8054918050765991),\n",
       " ('displayed', 0.8034037947654724),\n",
       " ('ear', 0.8012059926986694),\n",
       " ('head', 0.8007323741912842),\n",
       " ('ashes', 0.7994136810302734),\n",
       " ('wand', 0.7990560531616211),\n",
       " ('lap', 0.7982124090194702),\n",
       " ('passed', 0.7981855869293213),\n",
       " ('truth', 0.7947899103164673),\n",
       " ('partnership', 0.7935750484466553),\n",
       " ('thrones', 0.7934935092926025),\n",
       " ('wing', 0.7934477925300598),\n",
       " ('minds', 0.7925235629081726),\n",
       " ('myself', 0.7920036911964417),\n",
       " ('meanwhile', 0.7895438075065613)]"
      ]
     },
     "execution_count": 25,
     "metadata": {},
     "output_type": "execute_result"
    }
   ],
   "source": [
    "faust_model.wv.most_similar(positive = ['pleasure'], topn=50)"
   ]
  },
  {
   "cell_type": "code",
   "execution_count": 20,
   "metadata": {},
   "outputs": [
    {
     "data": {
      "text/plain": [
       "[('waiting', 0.9164456129074097),\n",
       " ('cause', 0.8676549792289734),\n",
       " ('freshly', 0.8657076358795166),\n",
       " ('needs', 0.85924232006073),\n",
       " ('begrudge', 0.852847158908844),\n",
       " ('brighter', 0.8457789421081543),\n",
       " ('bringing', 0.8456370830535889),\n",
       " ('drove', 0.8436753153800964),\n",
       " ('spare', 0.8435100317001343),\n",
       " ('papers', 0.8393931984901428)]"
      ]
     },
     "execution_count": 20,
     "metadata": {},
     "output_type": "execute_result"
    }
   ],
   "source": [
    "faust_model.wv.most_similar(negative = ['heaven'], topn=10)"
   ]
  },
  {
   "cell_type": "code",
   "execution_count": 32,
   "metadata": {},
   "outputs": [],
   "source": [
    "vector = []\n",
    "wordlist = []\n",
    "for ind, word in enumerate(faust_model.wv.vocab):\n",
    "    wordlist.append(word)\n",
    "    vector.append(faust_model.wv[word])"
   ]
  },
  {
   "cell_type": "code",
   "execution_count": 51,
   "metadata": {},
   "outputs": [
    {
     "name": "stdout",
     "output_type": "stream",
     "text": [
      "kings 0.84334165\n",
      "evening 0.83866805\n",
      "singing 0.83644974\n",
      "trickery 0.8296645\n",
      "equal 0.82178664\n",
      "barred 0.8141544\n",
      "signs 0.81174654\n",
      "flames 0.80710304\n",
      "odd 0.8043227\n",
      "ring 0.80046946\n"
     ]
    }
   ],
   "source": [
    "import numpy\n",
    "\n",
    "v = numpy.array(faust_model.wv['hell'])\n",
    "for i in range(10):\n",
    "    maxdot = 0 \n",
    "    maxindx = 0\n",
    "    for indx in range(len(wordlist)):\n",
    "        n = numpy.dot(v, vector[indx]) / (numpy.linalg.norm(v) * numpy.linalg.norm(vector[indx]))\n",
    "        if n > maxdot:\n",
    "            maxdot = n \n",
    "            maxindx = indx\n",
    "    print(wordlist[maxindx], maxdot)\n",
    "    del wordlist[maxindx]\n",
    "    del vector[maxindx]"
   ]
  },
  {
   "cell_type": "code",
   "execution_count": 41,
   "metadata": {},
   "outputs": [
    {
     "name": "stdout",
     "output_type": "stream",
     "text": [
      "4754\n"
     ]
    }
   ],
   "source": [
    "print(indx)"
   ]
  },
  {
   "cell_type": "code",
   "execution_count": 43,
   "metadata": {},
   "outputs": [
    {
     "data": {
      "text/plain": [
       "'peerless'"
      ]
     },
     "execution_count": 43,
     "metadata": {},
     "output_type": "execute_result"
    }
   ],
   "source": [
    "wordlist[indx]"
   ]
  },
  {
   "cell_type": "code",
   "execution_count": null,
   "metadata": {},
   "outputs": [],
   "source": []
  }
 ],
 "metadata": {
  "kernelspec": {
   "display_name": "Python 3",
   "language": "python",
   "name": "python3"
  },
  "language_info": {
   "codemirror_mode": {
    "name": "ipython",
    "version": 3
   },
   "file_extension": ".py",
   "mimetype": "text/x-python",
   "name": "python",
   "nbconvert_exporter": "python",
   "pygments_lexer": "ipython3",
   "version": "3.7.1"
  }
 },
 "nbformat": 4,
 "nbformat_minor": 2
}
