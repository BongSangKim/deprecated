{
 "cells": [
  {
   "cell_type": "markdown",
   "metadata": {},
   "source": [
    "# Homework 4\n",
    "\n",
    "due 19/4/5\n",
    "\n",
    "이번 숙제는 중간고사에 출제될 문제의 형식과 비슷하게 구성되었습니다. 중간고사 문항은 한글로 출제되며 아래의 채점 기준을 따릅니다.\n",
    "\n",
    "  * (5점) 완벽한 문장과 수식, 정확한 수학적 용어를 사용하여 문제 해결에 필요한 공식 및 정리를 정확히 기술하고, 과정과 이유를 상세히 설명하여 지시된 사항에 대한 정확한 결론(답)을 도출함. .\n",
    "  * (4점) 완전한 문장과 수식을 사용하였으나, 부정확한 수학적 용어를 사용하거나, 문제 해결에 적절한 공식 및 정리의 활용 방법을 명확히 기술하였으나 결론(답)에 사소한 오류(또는 실수)가 있음.\n",
    "  * (3점) 서술 구조(문장 또는 수식)가 불완전하거나, (부분적으로 올바른) 결론(답)을 도출하였으나 이에 사용된 수학적 논리, 공식 또는 정리를 명확하게 기술하지 않음.\n",
    "  * (2점) 서술 구조가 매우 불완전(예를 들어, 문장 구조가 없거나 문장의 의미가 문법적으로 전달되지 않음)하거나, (결론 또는 답의 정확성에 관계없이) 문제 해결 방법에 대한 설명이 불충분함. \n",
    "  * (1점) 서술 구조가 전혀 없으나(단답 또는 개조식 서술), 문제 해결과 관련된 정리 또는 공식을 부분적으로 맞게 기술함.\n",
    "  * (0점) 문제 해결과 관련된 서술이 없음.\n",
    "\n",
    "## Problem 1.\n",
    "\n",
    "아래의 행렬 $A$에 대해 적절한 순열행렬(permutation matrix) $P$를 찾고, $PA$의 $LDU$-분해($LDU$-decomposition)를 구하시오.\n",
    "\n",
    "$$A = \\begin{bmatrix} 0 & 2 & 0 & 1 \\\\ 2 & 0 & 1 & -1 \\\\ 0 & 1 & -1 & 0 \\\\ 0 & 1 & 2 & -1 \\end{bmatrix}$$\n",
    "\n",
    "## Problem 2.\n",
    "\n",
    "가우스-요르단 소거법(Gauss-Jordan elimination)을 이용하여 아래 $4\\times4$ 행렬의 역행렬(inverse matrix)를 구하시오.\n",
    "\n",
    "$$A = \\begin{bmatrix} 1 & 2 & -1 & 0 \\\\ 0 & 2 & 1 & 1 \\\\ -1 & 2 & 0 & 1 \\\\ 2 & 0 & 0 & 1 \\end{bmatrix}$$\n",
    "    \n",
    "## Problem 3.\n",
    "\n",
    "다음 명제가 참인지 거짓인지 판별하고, 참이라면 증명을, 거짓이면 반례를 기술하라.\n",
    "\n",
    "  1. 서로 평행하지 않은 두 벡터 $v_1, v_2$에 대해, $P_1, P_2$를 각각 $v_1, v_2$로의 사영행렬(projection matrix)라 하자. 이 때 $P = P_1P_2$는 벡터 공간 $\\textrm{span}\\{v_1,v_2\\}$로의 사영행렬이다.\n",
    "  \n",
    "  2. $n$-차원 벡터 $v_1,v_2,\\cdots,v_m$이 서로 직교(orthogonal)하면, 각 벡터 $v_i$로의 사영행렬을 $P_i$라 하였을 때, $P = P_1 + P_2 + \\cdots + P_m$도 사영행렬이다.\n",
    "\n",
    "## Problem 4.\n",
    "\n",
    "그람-슈밋 방법(Gram-Schmidt process)를 사용하여 벡터공간\n",
    "\n",
    "$$\\textrm{span}\\left\\{\\begin{bmatrix}1 \\\\ 1 \\\\ 1 \\\\ 1\\end{bmatrix},\\begin{bmatrix}-1 \\\\ 0 \\\\ 1 \\\\ 2\\end{bmatrix},\\begin{bmatrix}1 \\\\ 0 \\\\ 1 \\\\ 4\\end{bmatrix}\\right\\}$$\n",
    "\n",
    "의 단위직교기저(orthonormal basis)를 구하시오.\n",
    "\n",
    "## Problem 5.\n",
    "\n",
    "이차 방정식 $f(t) = a_0 + a_1t + a_2t^2$으로 모델링 되는 어떤 시스템에서 입력값 $t_i$에 대한 출력값 $b_i$가 다음과 같이 주어졌다고 하자.\n",
    "\n",
    "$$(t_1,b_1) = (-1, -2),\\quad (t_2,b_2) = (0, 1),\\quad (t_3,b_3) = (1, 3),\\quad (t_4,b_4) = (2, 2)$$\n",
    "\n",
    "입력 데이터 $t_i$에 대한 참값 데이터를 $y_i=f(t_i)$라 하였을 때, 오차(error)\n",
    "\n",
    "$$ E^2 = (b_1 - y_1)^2 + (b_2 - y_2)^2 + (b_3 - y_3)^2 + (b_4 - y_4)^2$$\n",
    "\n",
    "가 최소화되는 계수 $a_0,a_1,a_2$를 최소제곱법(Least square approximation)을 사용하여 구하시오. (힌트: 문제 4에서 구한 단위직교기저를 이용하면 쉽다.) \n",
    "\n",
    "## Problem 6.\n",
    "\n",
    "$n$차원 벡터들로 이루어진 어떤 벡터공간 $V\\subset\\mathbf R^n$의 직교여공간(orthogonal complement)을 $V^{\\perp}$라 하자. 임의의 $n\\times m$ 행렬 $A$에 대해 다음이 성립함을 보이시오.\n",
    "    $$C(A)^\\perp = N(A^T),\\quad R(A)^\\perp = N(A)$$\n"
   ]
  }
 ],
 "metadata": {
  "kernelspec": {
   "display_name": "Python 3",
   "language": "python",
   "name": "python3"
  },
  "language_info": {
   "codemirror_mode": {
    "name": "ipython",
    "version": 3
   },
   "file_extension": ".py",
   "mimetype": "text/x-python",
   "name": "python",
   "nbconvert_exporter": "python",
   "pygments_lexer": "ipython3",
   "version": "3.7.1"
  }
 },
 "nbformat": 4,
 "nbformat_minor": 2
}
