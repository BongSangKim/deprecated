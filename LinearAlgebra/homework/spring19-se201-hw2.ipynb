{
 "cells": [
  {
   "cell_type": "markdown",
   "metadata": {},
   "source": [
    "# HOMEWORK 02\n",
    "\n",
    "Due 19/3/22 (11:59)\n",
    "\n",
    "Homework must be uploaded to [lms](https://lms.dgist.ac.kr)."
   ]
  },
  {
   "cell_type": "markdown",
   "metadata": {},
   "source": [
    "## Problem 1\n",
    "\n",
    "### 1-1.\n",
    "\n",
    "Find a basis for the orthogonal complement of the row space of $A$.\n",
    "\n",
    "$$A = \\begin{bmatrix}1 & 0 & 2 \\\\ 1 & 1 & 4\\end{bmatrix}$$\n",
    "\n",
    "### 1-2.\n",
    "\n",
    "Construct a matrix $A$ with each property or say why that is impossible.\n",
    "\n",
    "1. Column space $C(A)$ contains $\\begin{bmatrix}1 \\\\ 2 \\\\ 3\\end{bmatrix}$ and $\\begin{bmatrix}2 \\\\ -3 \\\\ 5\\end{bmatrix}$, nullspace contains $\\begin{bmatrix}1 \\\\ 1 \\\\ 1\\end{bmatrix}$\n",
    "2. Row space $R(A)$ contains $\\begin{bmatrix}1 \\\\ 2\\\\ -3\\end{bmatrix}$ and $\\begin{bmatrix}2 \\\\ -3\\\\5\\end{bmatrix}$, nullspace contains $\\begin{bmatrix}1 \\\\ 1\\\\ 1\\end{bmatrix}$\n",
    "3. $Ax =\\begin{bmatrix}1 \\\\ 1\\\\ 1\\end{bmatrix}$ has a solution and $A^T\\begin{bmatrix}1 \\\\ 0 \\\\ 0\\end{bmatrix} = \\begin{bmatrix}0 \\\\0\\\\0\\end{bmatrix}$.\n",
    "4. Every row of $A$ is orthogonal to every column ($A$ is not the zero matrix.)\n",
    "5. The columns of $A$ add up to a column of $0$s, the rows of $A$ add to a row of $1$s."
   ]
  },
  {
   "cell_type": "markdown",
   "metadata": {},
   "source": [
    "## Problem 2\n",
    "\n",
    "### 2-1.\n",
    "\n",
    "By choosing the correct vector $b$ in the Schwarz inequality, prove that\n",
    "$$(a_1+\\cdots+a_n)^2 \\le n(a_1^2 + \\cdots + a_n^2)$$\n",
    "and explain when does equality hold.\n",
    "\n",
    "### 2-2.\n",
    "\n",
    "Compute the projection matrices $P_1, P_2$ onto the lines through $a_1 = (1,2,2)$ and $a_2=(2,2,-1)$. Explain what does the multiple $P_1P_2$ mean."
   ]
  },
  {
   "cell_type": "markdown",
   "metadata": {},
   "source": [
    "## Problem 3\n",
    "\n",
    "The following is to show that if a $n\\times n$ matrix $A$ has a left-inverse (that is, there is a $n\\times n$ matrix $B$ such that $BA=I_n$ where $I_n$ is the identity matrix), then $A$ has a right-inverse (that is, there is a $n\\times n$ matrix $C$ such that $AC=I_n$).\n",
    "\n",
    "### 3-1.\n",
    "\n",
    "Suppose that $A=LDU$ is the LDU-decomposition of $A$. Prove that the LDU-decomposition of $A^T$ is $U^TDL^T$. (Use the uniqueness of LDU-decomposiiton)\n",
    "\n",
    "### 3-2.\n",
    "\n",
    "Show that $A^T$ has a left inverse if and only if $A$ has a right inverse.\n",
    "\n",
    "### 3-3. \n",
    "\n",
    "Let $A=LDU$ is the LDU-decomposition of $A$.\n",
    "Prove that $A$ has a left-inverse if and only if all diagonal entries of $D$ are not zero.\n",
    "\n",
    "### The conclusion (no need to prove, just read)\n",
    "\n",
    "Let $A$ be a $n\\times n$ matrix with left inverse $B$. Then by 3-3, we know that the diagonal matrix $D$ in LDU-decomposition of $A$ has nonzero diagonal entries. By 3-1, we also know that the diagonal matrix in LDU-decomposition of $A^T$ also has nonzero diagonal entries. Using 3-3 again (replace $A$ by $A^T$), we know that $A^T$ has a left inverse. Finally, by 3-2, we know that $A$ has a right inverse.\n",
    "\n",
    "**REMARK**\n",
    "\n",
    "The definition of a inverse matrix requires that the inverse must be both left and right-inverse. The argument above shows that if a left-inverse exist, then a right-inverse exists. (The converse is also true: if a right-inverse exists, then a left-inverse also exists.) As we have shown in the class, the left-inverse and right-inverse are the same. Thus to check if a matrix is an inverse of a given matrix, we only need to show that it is either left inverse or right inverse."
   ]
  }
 ],
 "metadata": {
  "kernelspec": {
   "display_name": "Python 3",
   "language": "python",
   "name": "python3"
  },
  "language_info": {
   "codemirror_mode": {
    "name": "ipython",
    "version": 3
   },
   "file_extension": ".py",
   "mimetype": "text/x-python",
   "name": "python",
   "nbconvert_exporter": "python",
   "pygments_lexer": "ipython3",
   "version": "3.6.3"
  }
 },
 "nbformat": 4,
 "nbformat_minor": 2
}
