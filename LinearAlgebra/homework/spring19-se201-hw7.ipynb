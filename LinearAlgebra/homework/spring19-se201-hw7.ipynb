{
 "cells": [
  {
   "cell_type": "markdown",
   "metadata": {},
   "source": [
    "# Homework 7\n",
    "\n",
    "Due 5/10\n",
    "\n",
    "## Problem 1.\n",
    "\n",
    "Let $A = \\begin{bmatrix} 1 & 0 & 1 \\\\ 0 & 1 & 0 \\\\ 0 & 0 & 2 \\end{bmatrix}$ and $B = \\begin{bmatrix} 2 & -1 & -1 \\\\ -1 & 2 & 1 \\\\ 0 & 0 & 1 \\end{bmatrix}$.\n",
    "\n",
    "### 1-1.\n",
    "\n",
    "Confirm that $AB = BA$.\n",
    "\n",
    "### 1-2.\n",
    "\n",
    "Diagonalize $A$ and confirm that $\\mathbf e_1 = (1,0,0), \\mathbf e_2 = (0,1,0)$ are eigenvectors for eigenvalue $1$.\n",
    "\n",
    "### 1-3.\n",
    "\n",
    "Let $V = \\textrm{span}\\{\\mathbf e_1,\\mathbf e_2\\}$. \n",
    "Let $B|_V$ be the restriction of $B$ onto $V$. \n",
    "Confirm that $B|_V$ is written as a $2\\times 2$ matrix\n",
    "    $$B|_V = \\begin{bmatrix} 2 & -1 \\\\ -1 & 2 \\end{bmatrix}$$\n",
    "with respect to the basis $\\{\\mathbf e_1,\\mathbf e_2\\}$, and the eigenvalues are $1, 3$.\n",
    "\n",
    "### 1-4. \n",
    "\n",
    "Find the eigenvector matrix $S$ such that $S^{-1}AS, S^{-1}BS$ are simultaneously diagonalized.\n",
    "\n",
    "## Problem 2.\n",
    "\n",
    "Find the stead-state solution of \n",
    "    $$A = \\begin{bmatrix} .4 & .2 \\\\ .6 & .8 \\end{bmatrix}$$\n",
    "    \n",
    "## Problem 3.\n",
    "\n",
    "Decide the stability of the system\n",
    "    $$A = \\begin{bmatrix} 4 & -2 \\\\ 1 & 1 \\end{bmatrix},$$\n",
    "and find the solution of $u' = Au$ for $u_0 = \\begin{bmatrix} 3 \\\\ 2 \\end{bmatrix}$."
   ]
  }
 ],
 "metadata": {
  "kernelspec": {
   "display_name": "Python 3",
   "language": "python",
   "name": "python3"
  },
  "language_info": {
   "codemirror_mode": {
    "name": "ipython",
    "version": 3
   },
   "file_extension": ".py",
   "mimetype": "text/x-python",
   "name": "python",
   "nbconvert_exporter": "python",
   "pygments_lexer": "ipython3",
   "version": "3.6.3"
  }
 },
 "nbformat": 4,
 "nbformat_minor": 2
}
