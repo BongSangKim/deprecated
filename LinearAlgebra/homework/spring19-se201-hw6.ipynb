{
 "cells": [
  {
   "cell_type": "markdown",
   "metadata": {},
   "source": [
    "# Homework 6\n",
    "\n",
    "Due 4/26(Fri) 11:59\n",
    "\n",
    "## Problem 1\n",
    "\n",
    "### 1-1.\n",
    "\n",
    "Find the eigenvalues of $A, B$, and $C$\n",
    "\n",
    "$$A = \\begin{bmatrix} 1 & 2 & 3 \\\\ 0 & 4 & 5 \\\\ 0 & 0 & 6 \\end{bmatrix},\\quad\n",
    "B = \\begin{bmatrix} 0 & 0 & 1 \\\\ 0 & 2 & 0 \\\\ 3 & 0 & 0 \\end{bmatrix},\\quad\n",
    "C = \\begin{bmatrix} 2 & 2 & 2 \\\\ 2 & 2 & 2 \\\\ 2 & 2 & 2 \\end{bmatrix}$$\n",
    "\n",
    "### 1-2.\n",
    "\n",
    "From the unit vector $u = \\left(\\frac{1}{6}, \\frac{1}{6}, \\frac{3}{6}, \\frac{5}{6}\\right)$, construct the rank-$1$ projection matrix $P = uu^T$. And then find three linearly independent eigenvectors of $P$ all with eigenvalue $\\lambda = 0$.\n",
    "\n",
    "## Problem 2\n",
    "\n",
    "### 2-1. \n",
    "\n",
    "Let $A\\displaystyle =\\begin{bmatrix} 0.8 & 0.3 \\\\ 0.2 & 0.7 \\end{bmatrix}$.\n",
    "Compute the matrix $A^\\infty$ is the limt of $A^k$ as $k\\to \\infty$,\n",
    "and explain why $A^2 = \\frac{1}{2}\\left(A+A^\\infty\\right)$.\n",
    "\n",
    "### 2-2.\n",
    "\n",
    "Find all eigenvalues of\n",
    "$$ A = \\begin{bmatrix} 1 \\\\ 2 \\\\ 1 \\end{bmatrix}\\begin{bmatrix} 2 & 1 & 2 \\end{bmatrix}\n",
    "= \\begin{bmatrix} 2 & 1 & 2 \\\\ 4 & 2 & 4 \\\\ 2 & 1 & 2 \\end{bmatrix}$$\n",
    "\n",
    "## Problem 3\n",
    "\n",
    "### 3-1.\n",
    "\n",
    "If $A = \\begin{bmatrix} 4 & 3 \\\\ 1 & 2 \\end{bmatrix}$, find $A^{100}$.\n",
    "\n",
    "### 3-2.\n",
    "\n",
    "Let $A = \\begin{bmatrix} 1 & 0 \\\\ 1 & 1 \\end{bmatrix}$, $B = \\begin{bmatrix} 1 & 1 \\\\ 0 & 1 \\end{bmatrix}$. Find the eigenvalues of $AB$ and $BA$.\n",
    "\n",
    "## Problem 4.\n",
    "\n",
    "### 4-1. \n",
    "\n",
    "Diagonalize $B$ and compute $S\\Lambda^kS^{-1}$ to prove the formula of $B^k$:\n",
    "$$B = \\begin{bmatrix} 3 & 1 \\\\ 0 & 2 \\end{bmatrix},\\quad B^k = \\begin{bmatrix} 3^k & 3^k - 2^k \\\\ 0 & 2^k \\end{bmatrix}$$\n",
    "\n",
    "### 4-2. \n",
    "\n",
    "Let $A = \\begin{bmatrix} 0.6 & 0.4 \\\\ 0.4 & 0.6 \\end{bmatrix}$, $B = \\begin{bmatrix} 0.6 & 0.9 \\\\ 0.1 & 0.6 \\end{bmatrix}$. Comput $A^\\infty$ and $B^\\infty$.\n"
   ]
  }
 ],
 "metadata": {
  "kernelspec": {
   "display_name": "Python 3",
   "language": "python",
   "name": "python3"
  },
  "language_info": {
   "codemirror_mode": {
    "name": "ipython",
    "version": 3
   },
   "file_extension": ".py",
   "mimetype": "text/x-python",
   "name": "python",
   "nbconvert_exporter": "python",
   "pygments_lexer": "ipython3",
   "version": "3.7.1"
  }
 },
 "nbformat": 4,
 "nbformat_minor": 2
}
