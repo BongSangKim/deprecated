{
 "cells": [
  {
   "cell_type": "markdown",
   "metadata": {},
   "source": [
    "# Week 6\n",
    "\n",
    "## Lecture 11\n",
    "\n",
    "### Announcement\n",
    "\n",
    "  * HW4 is up (preparation for midterm) Write your solution as carefully as possible to get a proper feedback.\n",
    "  * Recitation(4/4) on E7 242\n",
    "\n",
    "### Contents\n",
    "\n",
    "  * What is determinant?\n",
    "    * Determinants appeared in Jacobian, Cramer's rule, Wronskian, etc\n",
    "    * Three definitions (which are all equivalent)\n",
    "      * Definition of det using permutation\n",
    "      * Definition of det using induction\n",
    "      * Definition of det as a function with properties\n",
    "  \n",
    "  * Definition of determinant using permutation\n",
    "    * Permuation matrix revisited\n",
    "    * Determinant of permutation using swap - sign of permuation\n",
    "    * The formula of determinant of $3\\times 3$ matrices\n",
    "  \n",
    "  * Definition of determinant using induction\n",
    "    * Definition of cofactor\n",
    "    * The formula of determinant using cofactor\n",
    "    * **Q** Why two definitions of determinants, one with permuation and the other with cofactor, are equivalent?\n",
    "  \n",
    "  * Definition of determinant as a function with properties\n",
    "    * $\\det:M(n,n;\\mathbf R)\\to\\mathbf R$\n",
    "    * Property 1: If $B$ is a matrix obtained by exchanging two rows of $A$, then $\\det(B) = -\\det(A)$.\n",
    "    * Property 2: Let $v,w$ be two $n$-dimensional row vectors and $a,b$ be real numbers. Fix $A$ and let $A_i(av+bw)$ be a matrix whose $i$-th row is replaced by $av+bw$ and all other entries are equal to $A$. Then $\\det(A_i(av+bw) = a\\det(A_i(v)) + b\\det(A_i(w))$.\n",
    "    * Property 3: $\\det(I_n)=1$ where $I_n$ is the $n\\times n$ identity matrix.\n",
    "  \n",
    "## Lecture 12\n",
    "\n",
    "### Announcement\n",
    "\n",
    "  * Recitation on E7 242 today\n",
    "  * HW4 is due 4/3\n",
    "\n",
    "### Contents\n",
    "\n",
    "  * Where do you use determinant?\n",
    "    * A $n\\times n$ matrix is invertible if and only if $\\det(A)\\neq0$.\n",
    "    * For a invertible matrix $A$, the solution of $Ax=b$ can be computed by Cramer's rule.\n",
    "    * The volume of the parallelopipe bounded by edges parallel to the vectors $v_1, v_2, v_3$ is the absolute value of the determinant of the matrix $\\begin{bmatrix} v_1 & v_2 & v_3 \\end{bmatrix}$\n",
    "    \n",
    "  * Inverse matrix\n",
    "    * The formulat of the inverse matrix: $(A^{-1})_{ij} = C_{ji}/\\det(A)$\n",
    "    * **Q** Why $A$ is invertible if $\\det(A)\\neq0$? (may be a tautological question)\n",
    "  \n",
    "  * Cramer's rule\n",
    "    * The solution of $Ax=b$ is $x_i = \\det(A_i)/\\det(A)$ whre $A_i$ is the matrix obtained by replacing the $i$-th column of $A$ by $x$.\n",
    "  \n",
    "  * Computing pivots\n",
    "    * Suppose that $A = LDU$ and let $A_k, L_k, D_k, U_k$ be the $k\\times k$ submatrices on the upper left corner of $A,L,D,U$. Then $A_k = L_kD_kU_k$.\n",
    "    * $k$-th pivot is $\\det(A_k)/\\det(A_{k-1})$"
   ]
  }
 ],
 "metadata": {
  "kernelspec": {
   "display_name": "Python 3",
   "language": "python",
   "name": "python3"
  },
  "language_info": {
   "codemirror_mode": {
    "name": "ipython",
    "version": 3
   },
   "file_extension": ".py",
   "mimetype": "text/x-python",
   "name": "python",
   "nbconvert_exporter": "python",
   "pygments_lexer": "ipython3",
   "version": "3.7.1"
  }
 },
 "nbformat": 4,
 "nbformat_minor": 2
}
