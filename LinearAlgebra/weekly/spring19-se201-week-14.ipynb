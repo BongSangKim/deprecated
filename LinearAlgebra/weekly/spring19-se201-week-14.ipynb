{
 "cells": [
  {
   "cell_type": "markdown",
   "metadata": {},
   "source": [
    "# week 14\n",
    "\n",
    "## Review for basis change\n",
    "\n",
    "Let $P_2$ be the vector space of degree 2 polynomials.\n",
    "Let $T:P_2\\to P_2$ be the map defined by $T(f(x)) = \\frac{df}{dx}(x)$.\n",
    "\n",
    "1. Show that $T$ is a linear transfomation\n",
    "\n",
    "### Basis change\n",
    "\n",
    "Let $\\mathcal B_1 = \\{1,x,x^2\\}$ and $\\mathcal B_2=\\{1,(x-1),(x-1)^2\\}$.\n",
    "\n",
    "2. Show that $\\mathcal B_1$ and $\\mathcal B_2$ are basis of $P_2$.\n",
    "\n",
    "3. Write $[T]_{\\mathcal B_1}^{\\mathcal B_1}$.\n",
    "\n",
    "4. Write $[Id]_{\\mathcal B_2}^{\\mathcal B_1}$ and confirm that\n",
    "    $$[T]_{\\mathcal B_2}^{\\mathcal B_2} = [Id]_{\\mathcal B_1}^{\\mathcal B_2} \\cdot[T]_{\\mathcal B_1}^{\\mathcal B_1} \\cdot [Id]_{\\mathcal B_2}^{\\mathcal B_1}$$\n",
    "\n",
    "### Diagonalization\n",
    "\n",
    "Define the inner product on $P_2$ by \n",
    "    $$\\langle f(x),g(x) \\rangle = \\int_0^1f(x)g(x)dx$$\n",
    "\n",
    "5. Apply Gram-Schmidt on $\\mathcal B_1$ to find an orthonormal basis $\\{1,f_1(x),f_2(x)\\}$ where $\\deg f_n = n$.\n",
    "\n",
    "6. Suppose $[f(x)]_{\\mathcal B_1} = \\begin{bmatrix} a_0 \\\\ a_1 \\\\ a_2 \\end{bmatrix}$ and $[g(x)]_{\\mathcal B_1} = \\begin{bmatrix} b_0 \\\\ b_1 \\\\ b_2 \\end{bmatrix}$. Express $\\langle f(x),g(x)\\rangle$ in terms of $a_n$ and $b_n$.\n",
    "\n",
    "7. Find a symmetric matrix $S$ such that \n",
    "    $$\\langle f(x),g(x)\\rangle = [f(x)]_{\\mathcal B_1}^T \\cdot S \\cdot [g(x)]_{\\mathcal B_1}$$\n",
    "    \n",
    "8. Diagonalize the above matrix $S = MDM^{-1}$.\n",
    "\n",
    "9. Explain the meaning of column vectors of the above matrix $M$.\n",
    "\n",
    "### Schur and Jordan\n",
    "\n",
    "10. Triangularize $[T]_{\\mathcal B_1}^{\\mathcal B_1} = UTU^{-1}$ by Schur's lemma.\n",
    "\n",
    "11. Find Jordan form of $[T]_{\\mathcal B_1}^{\\mathcal B_1}$ (that is, $[T]_{\\mathcal B_1}^{\\mathcal B_1} = MJM^{-1}$).\n",
    "\n",
    "### SVD\n",
    "\n",
    "Let $T:P_2\\to P_1$ be the linear transformation $T(f(x)) = f'(x)$. Write $\\mathcal B_1,\\mathcal B_2$ for the basis of $P_1$ similar to the basis $\\mathcal B_1,\\mathcal B_2$ of $P_2$.\n",
    "\n",
    "12. FInd SVD of $[T]_{\\mathcal B_1}^{\\mathcal B_1}$.\n",
    "\n",
    "13. Find SVD of $[T]_{\\mathcal B_1}^{\\mathcal B_2}$ and compare with above."
   ]
  }
 ],
 "metadata": {
  "kernelspec": {
   "display_name": "Python 3",
   "language": "python",
   "name": "python3"
  },
  "language_info": {
   "codemirror_mode": {
    "name": "ipython",
    "version": 3
   },
   "file_extension": ".py",
   "mimetype": "text/x-python",
   "name": "python",
   "nbconvert_exporter": "python",
   "pygments_lexer": "ipython3",
   "version": "3.7.1"
  }
 },
 "nbformat": 4,
 "nbformat_minor": 2
}
