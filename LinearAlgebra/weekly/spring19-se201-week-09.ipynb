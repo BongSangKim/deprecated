{
 "cells": [
  {
   "cell_type": "markdown",
   "metadata": {},
   "source": [
    "# Week 9\n",
    "\n",
    "## Lecture 15\n",
    "\n",
    "* Eigenvalues and eigenvectors\n",
    "  * Definition: $Ax = \\lambda x, \\det(A-\\lambda I)=0$\n",
    "    * Q: How to find the eigenvalue (or eigenvector) assuming that you know the eigenvector (eigenvalue)?\n",
    "  * Example: $A = \\begin{bmatrix} 4 & -5 \\\\ 2 & -3 \\end{bmatrix}$\n",
    "  * Question:\n",
    "    * Q: What does eigenvectors for 0 eigenvalues represent?\n",
    "    * Q: Given a eigenvalue $\\lambda$, is there a unqiue eigenvector? (Example: $A = \\begin{bmatrix} 2 & 2 \\\\ 2 & 2 \\end{bmatrix}$\n",
    "  \n",
    "* System of differential equations\n",
    "  * General solution in exponential form: $\\begin{bmatrix} 4 & -5 \\\\ 2 & -3 \\end{bmatrix}x = x'$\n",
    "  \n",
    "\n",
    "* Eigenvalues of special matrices\n",
    "  * Diagonal matrices\n",
    "  * Triangular matrices\n",
    "  * Permutation matrices\n",
    "    * Eigenvalues are 0 or 1.\n",
    "    * Q: What does the number of 1's as eigenvalues represent?\n",
    "\n",
    "* Trace and determinant\n",
    "  * $\\textrm{Tr}(A) = A_{11} + \\cdots + A_{nn} = \\lambda_1 + \\cdots + \\lambda_n$\n",
    "  * $\\det(A) = \\lambda_1 \\cdots \\lambda_n$\n",
    "  \n",
    "* Problems\n",
    "  * Let $u, v, w$ be linearly independent eigenvectors with eigenvalue $0, 3, 5$ of a matrix $A$ respectively.\n",
    "    * Find a basis of $N(A)$ and $C(A)$.\n",
    "    * Find the general solution of $Ax = v + w$.\n",
    "    * Show that there is no solution of $Ax = u$.\n",
    "  * Let $\\lambda$ be an eigenvalue of $A$ with the eigenvector $x$. Show that\n",
    "    * $\\lambda^2$ is an eigenvalue of $A^2$.\n",
    "    * $\\lambda^{-1}$ is an eigenvalue of $A^{-1}$. (Can a nonsingular matrix have $0$ eigenvalue?)\n",
    "    * $\\lambda + 1$ is an eigenvalue of $A+I$.\n",
    "    \n",
    "## Lecture 16\n",
    "\n",
    "* Diagonalization\n",
    "  * Definition: Suppose that $A$ has $n$ linearly independent eigenvectors $v_1,\\cdots,v_n$ with eigevalues $\\lambda_1,\\cdots,\\lambda_n$ (counting multiplicity) respectively. Then\n",
    "  $$S^{-1}AS = \\Lambda = \\textrm{diag}(\\lambda_1,\\cdots,\\lambda_n)$$\n",
    "  where $S = \\begin{bmatrix} v_1 & \\cdots & v_n \\end{bmatrix}$ (called the eigenvector matrix).\n",
    "  * Example: $A = \\begin{bmatrix} 4 & -5 \\\\ 2 & -3 \\end{bmatrix}$\n",
    "  * Q: If $S^{-1} A S = \\Lambda = \\textrm{diag}(\\lambda_1,\\cdots,\\lambda_n)$, are $\\lambda_1,\\cdots,\\lambda_n$ eigenvalues of $A$?\n",
    "  * Q: Can all matrices be diagonalizable? (Example: $A = \\begin{bmatrix} 0 & 1 \\\\ 0 & 1\\end{bmatrix}$)\n",
    "  * Prop: If $A$ has $n$ distinct eigenvalues, then $A$ is diagonalizable.\n",
    "  * Q: Does diagonalizable matrix have $n$ distict eigenvalues?\n",
    "\n",
    "* Powers and product\n",
    "  * If $S^{-1}AS = \\Lambda$, then for any integer $n$, $S^{-1}A^nS = \\Lambda^n$.\n",
    "  * Let $A,B$ be diagonalizable matrices. Two matrices share the same eigenvector matrix $S$ if and only if $AB = BA$.\n",
    "\n",
    "* Problems\n",
    "  * True or false: if the only eigenvectors of $A$ are multiples of $x = (1,0,0)$, then\n",
    "    * $A$ is not invertible.\n",
    "    * $A$ has a repeated eigenvalues.\n",
    "    * $A$ is not diagonalizable.\n",
    "  * Let $A = \\begin{bmatrix} 0.6 & 0.4 \\\\ 0.4 & 0.6 \\end{bmatrix}$. Find the limit of $A^k$ as $k\\to \\infty$.\n",
    "  * Caley-Hamilton Theorem: let $p(\\lambda) = \\det(A-\\lambda I)$ be a polynomial. Then $p(A)$ is the zero matrix.\n",
    "    * Prove the theorem for diagonalizable matrix $A$."
   ]
  },
  {
   "cell_type": "code",
   "execution_count": null,
   "metadata": {
    "collapsed": true
   },
   "outputs": [],
   "source": []
  }
 ],
 "metadata": {
  "kernelspec": {
   "display_name": "Python 3",
   "language": "python",
   "name": "python3"
  },
  "language_info": {
   "codemirror_mode": {
    "name": "ipython",
    "version": 3
   },
   "file_extension": ".py",
   "mimetype": "text/x-python",
   "name": "python",
   "nbconvert_exporter": "python",
   "pygments_lexer": "ipython3",
   "version": "3.6.3"
  }
 },
 "nbformat": 4,
 "nbformat_minor": 2
}
