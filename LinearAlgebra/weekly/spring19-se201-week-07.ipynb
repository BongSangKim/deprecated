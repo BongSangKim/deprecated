{
 "cells": [
  {
   "cell_type": "markdown",
   "metadata": {},
   "source": [
    "# Week 7\n",
    "\n",
    "## Lecture 13\n",
    "\n",
    "### Outline\n",
    "\n",
    "* Review\n",
    "  * Prop 0: If $P$ is the permutation matrix of $\\sigma$, then $\\det(P) = \\textrm{sgn}(\\sigma)$.\n",
    "\n",
    "### Contents\n",
    "\n",
    "* Properties of determinant\n",
    "  * Prop 1(HW): $\\displaystyle\\det(A) = \\sum_\\sigma\\textrm{sgn}(\\sigma)A_{\\sigma(1)1}\\cdots A_{\\sigma(n)n}$\n",
    "  * Prop 2: $\\det A^i(av+bw) = a\\det A^i(v) + b\\det A^i(w)$\n",
    "  * Prop 3: If two columns of $A$ are equal, then $\\det A=0$.\n",
    "  * Prop 4: If $P$ is a permutation matrix, then $\\det(PA) = \\det(P)\\det(A)$\n",
    "  * Prop 5: $\\det(AB) = \\det(A)\\det(B)$\n",
    "    * Three types of elementary row / column operations: (1) multiply c on a row / column and add to another row / column, (2) multiply one row / column, (3) switch two rows / columns.\n",
    "    * If $L$ is an elementary row operation matrix of the type (1), then $\\det(LA) = \\det(A)$. Likewise, if $U$ is an elementary column operation matrix of the type (1), then $\\det(AU) = \\det(A)$ (Prop 2)\n",
    "    * If $P$ is an elementary row / column operation matrix of the type (2), then $\\det(PA) = \\det(AP) = -\\det(A)$. ($P$ corresponds to a permutation which switches two rows, and $\\det(P) = -1$)\n",
    "    * If $D$ is an elementary row / column operation matrix of the type (3), then $\\det(DA) = \\det(AD) = \\det(D)\\det(A)$.\n",
    "    * Suppose $PA = LDU$ for some permutation matrix $P$. Let $P=P_1\\cdots P_l$, $L=L_1\\cdots L_r$, $D = D_1\\cdots D_s$, and $U = U_1\\cdots U_t$. \n",
    "    * Thus\n",
    "    $$\\det(AB) = \\det(P_l\\cdots P_1L_1\\cdots L_rD_1\\cdots D_sU_1\\cdots U_tB) = \\det(P_l)\\cdots\\det(P_1)\\det(D_1)\\cdots\\det(D_s)\\det(B)\n",
    "    = \\det(A)\\det(B)$$\n",
    "    \n",
    "* (If time permits) Jacobian as determinant\n",
    "  * Differential of map\n",
    "  * Orientation\n",
    "\n",
    "## Lecture 14\n",
    "\n",
    "* Review for Midterm\n",
    "  * HW4\n",
    "  * How to write a proof: $\\det A = \\det A^T$\n",
    "  * Finding the best fit solution with weighted error\n",
    "  * QnA"
   ]
  }
 ],
 "metadata": {
  "kernelspec": {
   "display_name": "Python 3",
   "language": "python",
   "name": "python3"
  },
  "language_info": {
   "codemirror_mode": {
    "name": "ipython",
    "version": 3
   },
   "file_extension": ".py",
   "mimetype": "text/x-python",
   "name": "python",
   "nbconvert_exporter": "python",
   "pygments_lexer": "ipython3",
   "version": "3.7.1"
  }
 },
 "nbformat": 4,
 "nbformat_minor": 2
}
