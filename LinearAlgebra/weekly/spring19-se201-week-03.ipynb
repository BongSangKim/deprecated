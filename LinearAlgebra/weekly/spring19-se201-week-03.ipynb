{
 "cells": [
  {
   "cell_type": "markdown",
   "metadata": {},
   "source": [
    "# Week 03\n",
    "\n",
    "## Lecture 05 (19/3/11)\n",
    "\n",
    "### To Do\n",
    "\n",
    "* Review previous lecture\n",
    "* Check roster\n",
    "\n",
    "### Contents (2.3)\n",
    "\n",
    "* Basis and dimensions\n",
    "  * Definition of basis\n",
    "  * The rank\n",
    "    * Row / column rank\n",
    "    * Invariance of rank\n",
    "    \n",
    "* Linear independency\n",
    "  * Definition\n",
    "  * Linear independeces for column vectors and row vectors in REF\n",
    "    * Example: $A = \\begin{bmatrix}1 & 3 & 3 & 2 \\\\ 2 & 6 & 9 & 5 \\\\ -1 & -3 & 3 & 0\\end{bmatrix}$\n",
    "  * **Q** Show that $n$ number of $m$-dimensional vectors are linearly dependent if $n>\n",
    "  m$.\n",
    "\n",
    "### Timeline\n",
    "\n",
    "* (0 ~ 5 min) Review\n",
    "* (5 ~ 10 min) Questions, roster\n",
    "* (10 ~ 55 min) Lecture on contents (English)\n",
    "* (55 ~ 75 min) Discussion (Korean)"
   ]
  },
  {
   "cell_type": "markdown",
   "metadata": {},
   "source": [
    "## Lecture 06 (19/3/14)\n",
    "\n",
    "### To Do\n",
    "\n",
    "* Review previous lecture\n",
    "* Homework 01 reannouncement\n",
    "* Check roster\n",
    "\n",
    "### Contents (2.4)\n",
    "\n",
    "* Solving $Ax = b$\n",
    "  * Working example: $A = \\begin{bmatrix}1 & 3 & 3 & 2 \\\\ 2 & 6 & 9 & 7 \\\\ -1 & -3 & 3 & 4 \\end{bmatrix},\\quad b = \\begin{bmatrix}1 \\\\ 5 \\\\ 5\\end{bmatrix}$\n",
    "  * Six steps to find solution of $Ax=b$.\n",
    "    * Reduce $[A\\,\\,b]$ to REF.\n",
    "    * Find a compatibility condition for $b = \\begin{bmatrix} b_1 \\\\ b_2 \\\\ b_3 \\end{bmatrix}$.\n",
    "    * Describe column space of $A$.\n",
    "    * Describe null space of $A$.\n",
    "    * Reduce REF to RREF and find special and particular solutions.\n",
    "\n",
    "* Dimension of vector subspaces'\n",
    "    * Uniqueness of dimension: if $v_1,\\cdots,v_n$ and $w_1,\\cdots,w_m$ are basis of $V$, then $n=m$.\n",
    "    * **Q** Show that the dimension of the column space $C(A)$ is the number of pivots in $A$.\n",
    "  * Compare the basis of $C(A)$ and $C(R)$ where\n",
    "    $$R = \\begin{bmatrix}1 & 3 & 3 & 2 \\\\ 0 & 0 & 3 & 1 \\\\ 0 & 0 & 0 & 0\\end{bmatrix}$$\n",
    "  \n",
    "* The row space $R(A)$ and the null space $N(A)$\n",
    "  * The row rank of $A$ and dimension of $R(A), N(A)$\n",
    "  * Basis of $R(A)$ and $N(A)$.\n",
    "\n",
    "* The four subspaces\n",
    "  * $C(A), N(A), R(A), N(A^T)$\n",
    "  * $\\dim R(A) + \\dim N(A) = m$\n",
    "  * $\\dim C(A) + \\dim C(A^T) = n$\n",
    "  \n",
    "### Timeline\n",
    "\n",
    "* (0 ~ 5 min) Review\n",
    "* (5 ~ 10 min) Questions, roster\n",
    "* (10 ~ 55 min) Lecture on contents (English)\n",
    "* (55 ~ 75 min) Discussion (Korean)"
   ]
  }
 ],
 "metadata": {
  "kernelspec": {
   "display_name": "Python 3",
   "language": "python",
   "name": "python3"
  },
  "language_info": {
   "codemirror_mode": {
    "name": "ipython",
    "version": 3
   },
   "file_extension": ".py",
   "mimetype": "text/x-python",
   "name": "python",
   "nbconvert_exporter": "python",
   "pygments_lexer": "ipython3",
   "version": "3.6.3"
  }
 },
 "nbformat": 4,
 "nbformat_minor": 2
}
