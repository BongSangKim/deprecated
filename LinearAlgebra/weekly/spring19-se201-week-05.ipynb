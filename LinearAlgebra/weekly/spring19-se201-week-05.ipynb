{
 "cells": [
  {
   "cell_type": "markdown",
   "metadata": {},
   "source": [
    "# Week 5\n",
    "\n",
    "## Lecture 9\n",
    "\n",
    "### Todo\n",
    "\n",
    "* HW3 announce\n",
    "* Recitation together in one classroom\n",
    "\n",
    "### Contents(3.3)\n",
    "\n",
    "* Least square approximation\n",
    "  * Finding a best estimate $\\hat x$ for $Ax=b$ which minizes the error $E = |b-A\\hat x|$.\n",
    "  * Normal equation $A^TA\\hat x = A^Tb$\n",
    "  * Best estimate: $\\hat x = (A^TA)^{-1}A^Tb$\n",
    "  * Projection: $p = A\\hat x = A(A^TA)^{-1}A^Tb$\n",
    "\n",
    "* Invertibility of $A^TA$.\n",
    "  * $N(A^TA) = N(A)$\n",
    "  * Theorem: $A^TA$ is invertible if $N(A)=0$.\n",
    "  \n",
    "* Applications\n",
    "  * Line-fitting: $C+Dt = y$\n",
    "    * Example: Fitting $C+Dt = y$ for\n",
    "    $$t = \\begin{bmatrix}-1 \\\\ 1 \\\\ 2\\end{bmatrix},\\quad y = \\begin{bmatrix}1\\\\1\\\\3\\end{bmatrix}$$\n",
    "  * Weighted error: $E = |WAx - Wb|$.\n",
    "    * **Q** Use the gradient of $E^2$ to find the minimum.\n",
    "    * Weighted normal equation: $(A^TW^TWA)\\hat x = A^TW^TWb$.\n",
    "    * Weighted inner product: $(x,y)_W = (Wy)^T(Wx)$.\n",
    "\n",
    "  \n",
    "### Timeline\n",
    "\n",
    "* (15min) Review\n",
    "* (20min) Lease square approximation\n",
    "* (10min) Invertibility\n",
    "* (20min) Application\n",
    "* (10min) Question"
   ]
  },
  {
   "cell_type": "markdown",
   "metadata": {},
   "source": [
    "## Lecture 10\n",
    "\n",
    "### Todo\n",
    "\n",
    "* Homework 3 reminder\n",
    "* Recitation in 242 at 15:00 (together)\n",
    "\n",
    "### Contents(3.4)\n",
    "\n",
    "* (If time permits) polynomial fitting: $a_0+a_1t+a_2t^2+\\cdots+a_{n-1}t^{n-1} = y$\n",
    "  * **Q** How many data needed to get the best-fit approximation (or an exact solution?)\n",
    "\n",
    "* Orthonormal basis\n",
    "  * Orthonormal vectors: $v_i^Tv_j = \\delta_{ij}$\n",
    "  * Orthonormal (book calls it *orthogonal*) matrix: $A = \\begin{bmatrix} v_1 & \\cdots & v_m \\end{bmatrix}$,  $A^TA = Id$\n",
    "  * Example: $(1,1,1)/\\sqrt3$, $(3,0,-3)/3\\sqrt2$.\n",
    "  \n",
    "* Gram-Schmidt\n",
    "  * $A_j = v_j - (q_1^Tv_1)q_1 - \\cdots - (q_{j-1}^Tv_{j-1})q_{j-1}$, $q_j = A_j / \\Vert A_j\\Vert$\n",
    "  * Example: $\\begin{bmatrix}1\\\\0\\\\1\\end{bmatrix},\\begin{bmatrix}1\\\\0\\\\0\\end{bmatrix},\\begin{bmatrix}2\\\\1\\\\0\\end{bmatrix}$\n",
    "  \n",
    "* QR factorization\n",
    "  * $A = \\begin{bmatrix} v_1 & \\cdots & v_m \\end{bmatrix}$, $Q = \\begin{bmatrix} q_1 & \\cdots & q_m \\end{bmatrix}$\n",
    "  $$R = \\begin{bmatrix} q_1^Tv_1 & \\cdots & q_1^Tv_m \\\\ & \\ddots & \\vdots \\\\ & & q_m^Tv_m \\end{bmatrix}$$\n",
    "  * **Q** Why $R$ is upper-triangular?\n",
    "  * Example: Find QR factorization for above\n",
    "\n",
    "### Timeline\n",
    "\n",
    "* (15min) review\n",
    "* (10min) Orthonormal basis\n",
    "* (15min) Gram-Schmidt\n",
    "* (10min) QR factorization\n"
   ]
  }
 ],
 "metadata": {
  "kernelspec": {
   "display_name": "Python 3",
   "language": "python",
   "name": "python3"
  },
  "language_info": {
   "codemirror_mode": {
    "name": "ipython",
    "version": 3
   },
   "file_extension": ".py",
   "mimetype": "text/x-python",
   "name": "python",
   "nbconvert_exporter": "python",
   "pygments_lexer": "ipython3",
   "version": "3.6.3"
  }
 },
 "nbformat": 4,
 "nbformat_minor": 2
}
