{
 "cells": [
  {
   "cell_type": "markdown",
   "metadata": {},
   "source": [
    "# Week 04\n",
    "\n",
    "## Lecture 07 (19/3/18)\n",
    "\n",
    "### To Do\n",
    "\n",
    "* Review previous lecture\n",
    "* Re-announce how to upload homework on LMS\n",
    "* Check roster\n",
    "\n",
    "### Contents (3.1-3.2)\n",
    "\n",
    "* Inner product\n",
    "  * Definition: $a\\circ b = a^Tb$\n",
    "  * **Q** Show that for any two vectors $v,w$ with internal angle $\\theta$, the following holds.\n",
    "    $$v\\cdot w = \\Vert v\\Vert\\Vert w\\Vert\\cos\\theta$$\n",
    "  * Schwartz inequality: $|a^Tb| \\le |a||b|$\n",
    "  \n",
    "* Orthogonality\n",
    "  * Definition: $v\\perp w$ if $v^Tw = 0$.\n",
    "  * (Fundamental Theorem of Linear Algebra I) $R(A)\\perp N(A)$, $C(A)\\perp N(A^T)$\n",
    "  * Example: $A = \\begin{bmatrix}1 & 2 & 1\\\\ 2 & 4 & 3\\\\ 3 & 6 & 4\\end{bmatrix}$.\n",
    "  \n",
    "* Orthogonal complement\n",
    "  * (Fundamental Theorem of Linear Algebra II) $C(A)^\\perp = N(A^T)$, $R(A)^\\perp = N(A)$\n",
    " \n",
    "\n",
    "### Timeline\n",
    "\n",
    "* (0 ~ 5 min) Review\n",
    "* (5 ~ 10 min) Questions, roster\n",
    "* (10 ~ 55 min) Lecture on contents (English)\n",
    "* (55 ~ 75 min) Discussion (Korean)"
   ]
  },
  {
   "cell_type": "markdown",
   "metadata": {},
   "source": [
    "## Lecture 08 (19/3/21)\n",
    "\n",
    "### To Do\n",
    "\n",
    "* Review previous lecture\n",
    "* Re-announce homework 02\n",
    "* Check roster\n",
    "\n",
    "### Contents (3.3)\n",
    "\n",
    "* Solvability: $Ax=b$ is solvable if and only if $y^Tb = 0$ for all $y$ satisfying $y^TA=0$ (That is, $y\\in N(A^T)$).\n",
    "\n",
    "* Mapping of $A$: $R(A)$, $N(A)$ to $C(A)$, $N(A^T)$ (and why we need projection!)\n",
    "\n",
    "* Projection\n",
    "  * Projection of $b$ onto $a$: $\\textrm{Proj}_a(b) = \\frac{a^Tb}{a^Ta}a$\n",
    "  * Example: $a = (1,1,1)$, $b=(1,2,2)$.\n",
    "  * Projection matrix onto a line: $P=\\frac{aa^T}{a^Ta}$. $Pb = \\textrm{Proj}_a(b)$\n",
    "    * Properties: $P^T=P$, $P^2=P$\n",
    "  * Theorem & Definition: any $P$ satisfying $P^T=P$, $P^2=P$ represents a projection onto its column space.\n",
    "    * Suppose that all column vectors of $A$ are independent. The the projection onto $C(A)$ is \n",
    "    $$A(A^TA)^{-1}A^T$$\n",
    "    * Example: Let $H$ be a plane containing vectors $(1,2,1), (0,2,-1)$. Find a projection onto $H$.\n",
    "  * **Q** Let $P_1,\\cdots, P_n$ be projections onto lines. When does $P = P_1 + \\cdots + P_n$ becomes a projection?\n",
    "  * Proving 삼수선의 정리 using projection\n",
    " \n",
    "  \n",
    "### Timeline\n",
    "\n",
    "* (0 ~ 5 min) Review\n",
    "* (5 ~ 10 min) Questions, roster\n",
    "* (10 ~ 55 min) Lecture on contents (English)\n",
    "* (55 ~ 75 min) Discussion (Korean)"
   ]
  }
 ],
 "metadata": {
  "kernelspec": {
   "display_name": "Python 3",
   "language": "python",
   "name": "python3"
  },
  "language_info": {
   "codemirror_mode": {
    "name": "ipython",
    "version": 3
   },
   "file_extension": ".py",
   "mimetype": "text/x-python",
   "name": "python",
   "nbconvert_exporter": "python",
   "pygments_lexer": "ipython3",
   "version": "3.6.3"
  }
 },
 "nbformat": 4,
 "nbformat_minor": 2
}
