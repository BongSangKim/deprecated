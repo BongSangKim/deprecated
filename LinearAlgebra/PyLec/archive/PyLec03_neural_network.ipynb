{
 "cells": [
  {
   "cell_type": "code",
   "execution_count": 4,
   "metadata": {},
   "outputs": [],
   "source": [
    "def step(x):\n",
    "    return np.array(x > 0, dtype=np.int)"
   ]
  },
  {
   "cell_type": "code",
   "execution_count": 5,
   "metadata": {},
   "outputs": [],
   "source": [
    "def sigmoid(x):\n",
    "    return 1 / (1 + np.exp(-x))"
   ]
  },
  {
   "cell_type": "code",
   "execution_count": 11,
   "metadata": {},
   "outputs": [],
   "source": [
    "def ReLU(x):\n",
    "    return np.maximum(0,x)"
   ]
  },
  {
   "cell_type": "code",
   "execution_count": 12,
   "metadata": {},
   "outputs": [],
   "source": [
    "def ident(x):\n",
    "    return x "
   ]
  },
  {
   "cell_type": "markdown",
   "metadata": {},
   "source": [
    "# 신경망 구현\n",
    "\n",
    "3층 신경망을 구현해 봅시다. 두 개의 입력 뉴런 $x_1$, $x_2$, 3개의 1층 뉴런 $a_1^{(1)}$, $a_2^{(1)}$, $a_3^{(1)}$, 2개의 2층 뉴런 $a_1^{(2)}$, $a_2^{(2)}$, 마지막으로 두 개의 출력 뉴런 $y_1$, $y_2$으로 이루어져 있습니다. 1층과 2층의 뉴런은 적절한 활성화 함수 $h()$를 통해 $z_i^{(j)}$로 재해석됩니다. 또한 다음층으로 넘어갈 때에는 적절한 가중치 $w_{i,i+1}^{(j)}$와 편향 $b_i^{(j)}$이 적용됩니다.\n",
    "\n",
    "이를 행렬곱으로 표현해 봅시다. $X = \\begin{bmatrix} x_1 & x_2\\end{bmatrix}$, 를 각각 입력 뉴런 벡터라 하고, \n",
    "$$W^{(1)} = \\begin{bmatrix} w_{11}^{(1)} & w_{12}^{(1)} & w_{13}^{(1)} \\\\\n",
    "w_{21}^{(1)} & w_{22}^{(1)} & w_{23}^{(1)} \\end{bmatrix},\\quad B^{(1)} = [b_1^{(1)}, b_2^{(1)}, b_3^{(1)}]$$\n",
    "를 각각 1층에서 2층으로의 가중치 벡터, 편향 벡터라 합시다. 이때, 1층 뉴런 벡터 $A^{(1)} = \\begin{bmatrix} a_1^{(1)} & a_2^{(1)} & a_3^{(1)}\\end{bmatrix}$는 다음과 같이 계산됩니다.\n",
    "$$A^{(1)} = XW^{(1)} + B^{(1)}$$"
   ]
  },
  {
   "cell_type": "code",
   "execution_count": 15,
   "metadata": {},
   "outputs": [],
   "source": [
    "import numpy as np\n",
    "\n",
    "# 입력층에서 1층으로\n",
    "X = np.array([1., 1.5])\n",
    "W1 = np.array([[.1, .3, .5], [.2, .4, .6]])\n",
    "B1 = np.array([.1, .2, .3])\n",
    "\n",
    "A1 = np.dot(X, W1) + B1 # 1층 뉴런 계산\n",
    "Z1 = sigmoid(A1) # Sigmoid 활성화 함수"
   ]
  },
  {
   "cell_type": "markdown",
   "metadata": {},
   "source": [
    "이 후에도 위와 비슷한 방식으로 적용합니다."
   ]
  },
  {
   "cell_type": "code",
   "execution_count": 13,
   "metadata": {},
   "outputs": [],
   "source": [
    "# 1층에서 2층 뉴런으로\n",
    "W2 = np.array([[.1, .4], [.2, .5], [.3, .6]])\n",
    "B2 = np.array([.1, .2])\n",
    "\n",
    "A2 = np.dot(Z1, W2) + B2\n",
    "Z2 = sigmoid(A2)\n",
    "\n",
    "# 2층에서 3층(출력층)으로\n",
    "W3 = np.array([[.1, .3], [.2, .4]])\n",
    "B3 = np.array([.1, .2])\n",
    "\n",
    "A3 = np.dot(Z2, W3) + B3\n",
    "Y = ident(A3)"
   ]
  },
  {
   "cell_type": "markdown",
   "metadata": {},
   "source": [
    "이를 함수로 정리해 봅시다"
   ]
  },
  {
   "cell_type": "code",
   "execution_count": 17,
   "metadata": {},
   "outputs": [
    {
     "name": "stdout",
     "output_type": "stream",
     "text": [
      "[0.31682708 0.69627909]\n"
     ]
    }
   ],
   "source": [
    "def init_network():\n",
    "    network = {}\n",
    "    network['W1'] = np.array([[.1, .3, .5], [.2, .4, .6]])\n",
    "    network['B1'] = np.array([.1, .2, .3])\n",
    "    network['W2'] = np.array([[.1, .4], [.2, .5], [.3, .6]])\n",
    "    network['B2'] = np.array([.1, .2])\n",
    "    network['W3'] = np.array([[.1, .3], [.2, .4]])\n",
    "    network['B3'] = np.array([.1, .2])\n",
    "    \n",
    "    return network\n",
    "\n",
    "def forward(network, x):\n",
    "    W1, W2, W3 = network['W1'], network['W2'], network['W3']\n",
    "    B1, B2, B3 = network['B1'], network['B2'], network['B3']\n",
    "\n",
    "    A1 = np.dot(x, W1) + B1\n",
    "    Z1 = sigmoid(A1)\n",
    "    A2 = np.dot(Z1, W2) + B2\n",
    "    Z2 = sigmoid(A2)\n",
    "    A3 = np.dot(Z2, W3) + B3\n",
    "    Y = ident(A3)\n",
    "    \n",
    "    return Y\n",
    "\n",
    "network = init_network()\n",
    "x = np.array([1., .5])\n",
    "y = forward(network, x)\n",
    "print(y)"
   ]
  },
  {
   "cell_type": "code",
   "execution_count": null,
   "metadata": {},
   "outputs": [],
   "source": []
  }
 ],
 "metadata": {
  "kernelspec": {
   "display_name": "Python 3",
   "language": "python",
   "name": "python3"
  },
  "language_info": {
   "codemirror_mode": {
    "name": "ipython",
    "version": 3
   },
   "file_extension": ".py",
   "mimetype": "text/x-python",
   "name": "python",
   "nbconvert_exporter": "python",
   "pygments_lexer": "ipython3",
   "version": "3.7.1"
  }
 },
 "nbformat": 4,
 "nbformat_minor": 2
}
