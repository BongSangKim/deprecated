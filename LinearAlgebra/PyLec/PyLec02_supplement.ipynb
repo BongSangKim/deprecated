{
 "cells": [
  {
   "cell_type": "markdown",
   "metadata": {},
   "source": [
    "# Lecture 2.5\n",
    "\n",
    "## Exercise: Finding inverse matrix using Gauss-Jordan Elimination"
   ]
  },
  {
   "cell_type": "markdown",
   "metadata": {},
   "source": [
    "지난 시간에 만들었던 RREF 함수를 사용할 것입니다."
   ]
  },
  {
   "cell_type": "code",
   "execution_count": 24,
   "metadata": {
    "collapsed": true
   },
   "outputs": [],
   "source": [
    "def FindPivot(A, curRow, curCol):\n",
    "    numRow, numCol = len(A), len(A[0])\n",
    "    for col in range(curCol, numCol):\n",
    "        for row in range(curRow, numRow):\n",
    "            if A[row][col] != 0:\n",
    "                return row, col\n",
    "    return numRow, numCol"
   ]
  },
  {
   "cell_type": "code",
   "execution_count": 25,
   "metadata": {
    "collapsed": true
   },
   "outputs": [],
   "source": [
    "def SwitchRowOf(A, row1, row2):\n",
    "    temp = A[row1].copy()\n",
    "    A[row1] = A[row2]\n",
    "    A[row2] = temp"
   ]
  },
  {
   "cell_type": "code",
   "execution_count": 26,
   "metadata": {
    "collapsed": true
   },
   "outputs": [],
   "source": [
    "def ReduceRowOf(A, pivotRow, pivotCol):\n",
    "    numRow, numCol = len(A), len(A[0])\n",
    "    pivot = A[pivotRow][pivotCol]\n",
    "    A[pivotRow] /= pivot\n",
    "    for row in range(numRow):\n",
    "        if row != pivotRow:\n",
    "            A[row] -= A[pivotRow] * A[row][pivotCol]"
   ]
  },
  {
   "cell_type": "code",
   "execution_count": 17,
   "metadata": {
    "collapsed": true
   },
   "outputs": [],
   "source": [
    "def ReducedRowEchelonForm(A):\n",
    "    # 1. 행렬 A의 크기, 반환할 행렬을 지정.\n",
    "    numRow, numCol = len(A), len(A[0])    \n",
    "    returnA = A.copy()\n",
    "    \n",
    "    # 2. (0,0)부터 시작하여 pivot을 찾음.\n",
    "    curRow, curCol = 0, 0\n",
    "    while curCol < numCol and curRow < numRow:\n",
    "        pivotRow, pivotCol = FindPivot(returnA, curRow, curCol)\n",
    "        if pivotRow == numRow:\n",
    "            break\n",
    "        # 3. 만약 pivot의 행이 현재 행보다 아래에 있으면 행의 위치를 바꿈.\n",
    "        if pivotRow != curRow:\n",
    "            SwitchRowOf(returnA, pivotRow, curRow)\n",
    "        # 4. pivot 행을 기준으로 행 소거\n",
    "        ReduceRowOf(returnA, curRow, pivotCol)\n",
    "        # 5. 다음 pivot을 찾기 위해 기준 위치를 업데이트 함\n",
    "        curRow += 1\n",
    "        curCol = pivotCol + 1\n",
    "        \n",
    "    return np.array(returnA)"
   ]
  },
  {
   "cell_type": "markdown",
   "metadata": {},
   "source": [
    "함수 `InverseGaussJordan`은 Guass-Jordan 소거법을 이용하여 역행렬을 구하는 함수입니다.\n",
    "\n",
    "Input:\n",
    ">```python\n",
    "A = np.array([[1., 2.], [3., 4.]])\n",
    "print(InverseGaussJordan(A))\n",
    "```\n",
    "\n",
    "Output:\n",
    ">```python\n",
    "[[-2.   1. ]\n",
    " [ 1.5 -0.5]]\n",
    "```\n",
    "\n",
    "아래 코드는 이를 구현한 것입니다. 주석을 참고하여 다음 함수를 직접 작성해 봅시다.\n",
    "\n",
    "1. `IsSquare(A)` 행렬 `A`가 정방행렬이면 `True`를 반환, 그렇지 않으면 `False`를 반환하는 함수\n",
    "2. `IsSingular(A)` 행렬 `A`가 가역행렬이면 `True`를 반환, 그렇지 않으면 `False`를 반환하는 함수 (힌트: RREF의 마지막 행의 항이 모두 0이면 가역행렬이 아님.)\n",
    "3. `AugmentedMatrixOf(A, B)` 두 행렬 `A`, `B`를 서로 행끼리(가로로) 붙여서 만든 행렬을 반환함. (행렬 `A`, `B`의 행의 갯수가 동일하다고 가정.)\n",
    "4. `GetBlock(A, curRow, curCol)` 행렬 `A`의 (curRow, curCol)에서 우측 하단까지의 부분행렬을 반환"
   ]
  },
  {
   "cell_type": "code",
   "execution_count": 18,
   "metadata": {
    "collapsed": true
   },
   "outputs": [],
   "source": [
    "def IsSquare(A):\n",
    "    if len(A) == len(A[0]):\n",
    "        return True\n",
    "    else:\n",
    "        return False"
   ]
  },
  {
   "cell_type": "code",
   "execution_count": 19,
   "metadata": {
    "collapsed": true
   },
   "outputs": [],
   "source": [
    "def AugmentedMatrixOf(A, B):\n",
    "    numRow = len(A)\n",
    "    retMat = []\n",
    "    for row in range(numRow):\n",
    "        retMat.append(list(A[row]) + list(B[row]))\n",
    "    return np.array(retMat)"
   ]
  },
  {
   "cell_type": "code",
   "execution_count": 20,
   "metadata": {
    "collapsed": true
   },
   "outputs": [],
   "source": [
    "def IsSingular(A):\n",
    "    rrefA = ReducedRowEchelonForm(A)\n",
    "    tempSum = 0\n",
    "    for col in range(len(A[0])):\n",
    "        tempSum += rrefA[-1][col]\n",
    "    if tempSum == 0:\n",
    "        return True\n",
    "    else:\n",
    "        return False"
   ]
  },
  {
   "cell_type": "code",
   "execution_count": null,
   "metadata": {
    "collapsed": true
   },
   "outputs": [],
   "source": [
    "def GetBlock(A, curRow, curCol):\n",
    "    numRow, numCol = len(A), len(A[0])\n",
    "    retMat = []\n",
    "    for row in range(curRow, numRow):\n",
    "        temp = []\n",
    "        for col in range(curCol, numCol):\n",
    "            temp.append(A[row][col])\n",
    "        retMat.append(temp)\n",
    "    return np.array(retMat)"
   ]
  },
  {
   "cell_type": "code",
   "execution_count": 39,
   "metadata": {},
   "outputs": [
    {
     "data": {
      "text/plain": [
       "array([[-2. ,  1. ],\n",
       "       [ 1.5, -0.5]])"
      ]
     },
     "execution_count": 39,
     "metadata": {},
     "output_type": "execute_result"
    }
   ],
   "source": [
    "import numpy as np\n",
    "\n",
    "def InverseGaussJordan(A):\n",
    "    numRow, numCol = len(A), len(A[0])\n",
    "    # 1. 만약 A가 정방행렬이 아니면 오류 메세지를 출력\n",
    "    if not IsSquare(A):\n",
    "        print(\"The input matrix is not square!\")\n",
    "        return\n",
    "    # 2. 만약 A이 가역행렬이 아니라면 오류 메세지를 출력\n",
    "    if IsSingular(A):\n",
    "        print(\"The input matrix is singular!\")\n",
    "        return\n",
    "    # 3. A의 오른쪽에 항등행렬을 붙여서 augmented matrix를 만들기\n",
    "    augA = AugmentedMatrixOf(A, np.identity(numRow))\n",
    "    # 4. Augmented matrix를 RREF로 변환\n",
    "    rrefAugA = ReducedRowEchelonForm(augA)\n",
    "    # 5. 얻어진 RREF에서 A의 역행렬에 해당되는 행렬을 반환\n",
    "    retA = GetBlock(rrefAugA, 0, numCol)\n",
    "    return np.array(retA)\n",
    "\n",
    "A = np.array([[1., 2.], [3., 4.]])\n",
    "print(InverseGaussJordan(A))"
   ]
  },
  {
   "cell_type": "code",
   "execution_count": null,
   "metadata": {
    "collapsed": true
   },
   "outputs": [],
   "source": []
  }
 ],
 "metadata": {
  "kernelspec": {
   "display_name": "Python 3",
   "language": "python",
   "name": "python3"
  },
  "language_info": {
   "codemirror_mode": {
    "name": "ipython",
    "version": 3
   },
   "file_extension": ".py",
   "mimetype": "text/x-python",
   "name": "python",
   "nbconvert_exporter": "python",
   "pygments_lexer": "ipython3",
   "version": "3.7.1"
  }
 },
 "nbformat": 4,
 "nbformat_minor": 2
}
