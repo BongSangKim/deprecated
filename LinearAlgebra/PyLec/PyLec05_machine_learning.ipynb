{
 "cells": [
  {
   "cell_type": "markdown",
   "metadata": {},
   "source": [
    "# 기계학습(machine learning)의 기본개념\n",
    "\n",
    "## 데이터의 종류\n",
    "\n",
    "기계학습은 데이터를 예측하는 모델의 정확한 변수값을 모르는 상태에서 이미 주어진 데이터를 통해 최적의 변수를 찾아내는 과정입니다.\n",
    "\n",
    "이를 위해 훈련 데이터(training data)와 시험 데이터(test data)가 필요합니다.\n",
    "\n",
    "> 훈련 데이터는 기본적으로 변수값을 최적화시키기 위해 사용되는 데이터 입니다.\n",
    ">\n",
    "> 훈련 데이터가 부정확하다면, 결과도 부정확합니다. (**Garbage in, garbage out**)\n",
    ">\n",
    "> 따라서 기계학습을 성공적으로 수행하기 위한 첫번째 단계는 좋은 훈련 데이터를 준비하는 것입니다.\n",
    "\n",
    "훈련 데이터를 이용하여 변수값을 찾았다면 이것이 정확한지 테스트 하기 위해 사용하는 데이터가 시험 데이터입니다.\n",
    "\n",
    "일반적으로 시험 데이터는 훈련 데이터의 크기보다 작습니다.\n",
    "\n",
    "보통 데이터는 훈련용과 시험용이 구분되어 있지 않으므로 무작위로 데이터를 구분하여 사용합니다.\n",
    "\n",
    "이를 미니배치(mini-batch)라 합니다.\n",
    "\n",
    "> 만약 시험 데이터가 지나치게 적거나 편향되어 있다면 어떤 문제가 생길 수 있나요?\n",
    ">\n",
    "> 모델이 훈련 데이터에 지나치게 최적화 된 상태를 오버피팅(overfitting)이라고 합니다.\n",
    ">\n",
    "> 오버피팅은 잘못된 모델링으로 인해 일어날 수도 있지만, 잘못된 데이터로 인해 일어날 수도 있습니다.\n",
    ">\n",
    "> 예를 들어 사진을 '개' 또는 '고양이'를 분류하는 모델을 학습시킨다고 합시다.\n",
    ">\n",
    "> '개'의 사진만을 가지고 학습 시킨 모델은 '개'는 정확히 맞출 수 있으나 '고양이'는 정확히 맞출 수가 없습니다.\n",
    ">\n",
    "> (오히려 '고양이'를 '개'라고 잘못 분류하는 경우가 더 많을 것입니다."
   ]
  },
  {
   "cell_type": "markdown",
   "metadata": {},
   "source": [
    "## 손실 함수(loss function)\n",
    "\n",
    "모델링을 최적화시키기 위해서는 정확도가 향상되는 방향으로 조금씩 변수값을 조정해야 합니다.\n",
    "\n",
    "다시 말하면 정확도가 떨어짐으로서 발생하는 손실(loss)이 최소화되어야 합니다.\n",
    "\n",
    "손실 함수란 기계 학습의 정확도를 가리키는 지표입니다.\n",
    "\n",
    "### 1. 평균 제곱 오차(mean squre error)\n",
    "\n",
    "평균제곱오차는 가장 많이 쓰이는 손실함수의 하나입니다.\n",
    "\n",
    "모델 예측값 $y_k$라 하고 실제값을 $t_k$라 하면 평균 제곱 오차 $E$는 다음과 같습니다.\n",
    "\n",
    "$$E = \\frac{1}{2}\\sum_{k=1}^N(y_k-t_k)^2$$\n",
    "\n",
    "여기서 $N$은 데이터의 크기입니다. \n",
    "\n",
    "편차의 제곱을 하는 이유는 참값($t_k$)보다 실제값($y_k$)이 작거나 큰 경우를 동일하게 보기 위함입니다."
   ]
  },
  {
   "cell_type": "code",
   "execution_count": 1,
   "metadata": {
    "collapsed": true
   },
   "outputs": [],
   "source": [
    "def msq(y,t):\n",
    "    return .5 * np.sum((y-t) ** 2)"
   ]
  },
  {
   "cell_type": "markdown",
   "metadata": {},
   "source": [
    "### 2. 교차 엔트로피 오차\n",
    "\n",
    "교차 엔트로피 오차는(cross-entropy error)는 평균 제곱 오차와는 약간 성격이 다릅니다. 모델 예측값을 $y_k$ 참값을 $t_k$라 합시다. 교차 엔트로피 오차는 다음과 같이 정의됩니다.\n",
    "\n",
    "$$E = -\\sum_k t_k\\log y_k$$\n",
    "\n",
    "만약 예측하고자 하는 값이 참(1) 또는 거짓(0)이라면 모든 $t_k$는 $0$ 또는 $1$로 기록되어 있습니다. 그러나 예측값 $y_k$는 $0$에서 $1$사이의 실수값으로 기록될 것입니다. 먄약 $t_k$가 $0$이라면 $t_k\\log y_k$는 항상 $0$입니다. 만약 $t_k$가 $1$이라면 $t_k\\log y_k$는 $y_k$이 클수록 더 작은 음의 실수를 가리킵니다. 오차값 $E$에 음의 부호가 붙어있으므로, $E$는 항상 양수입니다. 또한 $t_k$가 $1$인 $y_k$가 $1$에 가까울수록 $E$가 작아짐을 알 수 있습니다. 다시 말해, 참값이 $1$인 데이터를 잘 예측할 수록 $E$가 작아집니다.\n",
    "\n",
    "실제로, 예측값 $y_k$가 $0$이 되면 $\\log$값이 마이너스 무한대를 반환하므로 계산에 오류가 발생합니다. 따라서 실제 구현에서는 $y_k$ 값에 아주 작은 $\\delta$를 더하여 $0$이 되지 않게 합니다."
   ]
  },
  {
   "cell_type": "code",
   "execution_count": 2,
   "metadata": {
    "collapsed": true
   },
   "outputs": [],
   "source": [
    "def cross_entropy(y, t):\n",
    "    delta = 1e-7\n",
    "    return -np.sum(t * np.log(y + delta))"
   ]
  },
  {
   "cell_type": "markdown",
   "metadata": {},
   "source": [
    "위의 교차 엔트로피에 사용된 레이블 $y_k$, $t_k$는 하나의 데이터에 대한 출력 뉴런의 값과 정답값입니다. 예를 들어 MNIST 데이터셋의 경우, 하나의 데이터마다 10개의 레이블(0,1,2,...,9)이 있습니다. 기계학습을 위해서는 아주 많은 수의 데이터를 학습시켜야 하고, 이것에 대한 교차 엔트로피를 구해야 합니다. 즉, $N$개의 데이터가 있다고 하면 각 $n$번째 데이터마다 교차엔트로피를 구해서 평균을 구합니다.\n",
    "$$E = -\\frac{1}{N}\\sum_n\\sum_k t_{nk}\\log y_{nk}$$\n",
    "그런데 이렇게 하면 계산에 많은 시간이 소요됩니다. MNIST 데이터만 해도 6만개의 데이터가 있습니다. 따라서 모든 데이터를 사용하지 않고, 랜덤으로 몇개의 샘플만 추출해서 계산하는 것이 효율적입니다. 이를 **미니배치(mini-batch)**라 합니다. `np.random.choice`함수를 이용하면 무작위로 원하는 갯수의 샘플을 추출할 수 있습니다."
   ]
  },
  {
   "cell_type": "code",
<<<<<<< HEAD
   "execution_count": 105,
   "metadata": {
    "collapsed": true
   },
=======
   "execution_count": 3,
   "metadata": {},
>>>>>>> e1e666eae85bf77385a11198c890a326ab335be6
   "outputs": [],
   "source": [
    "def cross_entropy_minibatch(y, t):\n",
    "    if y.ndim == 1:\n",
    "        t = t.reshape(1, t.size)\n",
    "        y = y.reshape(1, y.size)\n",
    "    \n",
    "    batch_size = y.shape[0]\n",
    "    return -np.sum(t * np.log(y + 1e-7)) / batch_size"
   ]
  },
  {
   "cell_type": "markdown",
   "metadata": {},
   "source": [
    "## 기울기벡터(gradient)\n",
    "\n",
    "위와 같은 손실함수의 값을 줄이기 위해서는 현재 가중치와 편향을 손실함수가 작아지는 쪽으로 변화시켜야가야 합니다. 이를 위해 각 기울기벡터(gradient)를 구해야 합니다. 함수 $f(x,y)$에 대한 기울기 벡터는 다음과 같습니다.\n",
    "$$\\nabla f(x_0,y_0) = (f_x(x_0,y_0),f_y(x_0,y_0))$$\n",
    "이를 함수로 구현하면 아래와 같습니다. 실제로 편미분을 구현하기는 복잡하므로, 여기서는 수치적 편미분을 이용합니다."
   ]
  },
  {
   "cell_type": "code",
<<<<<<< HEAD
   "execution_count": 96,
   "metadata": {
    "collapsed": true
   },
=======
   "execution_count": 4,
   "metadata": {},
>>>>>>> e1e666eae85bf77385a11198c890a326ab335be6
   "outputs": [],
   "source": [
    "def numerical_gradient_1d(f, x):\n",
    "    h = 1e-4\n",
    "    grad = np.zeros_like(x)\n",
    "    for idx in range(x.size):\n",
    "        tmp_val = x[idx]\n",
    "        x[idx] = tmp_val + h\n",
    "        fxh1 = f(x)\n",
    "        \n",
    "        x[idx] = tmp_val - h\n",
    "        fxh2 = f(x)\n",
    "        \n",
    "        grad[idx] = (fxh1 - fxh2) / (2 * h)\n",
    "        x[idx] = tmp_val\n",
    "    return grad"
   ]
  },
  {
   "cell_type": "code",
<<<<<<< HEAD
   "execution_count": 93,
   "metadata": {
    "collapsed": true
   },
=======
   "execution_count": 5,
   "metadata": {},
>>>>>>> e1e666eae85bf77385a11198c890a326ab335be6
   "outputs": [],
   "source": [
    "def numerical_gradient_2d(f, x):\n",
    "    h = 1e-4\n",
    "    grad = np.zeros_like(x)\n",
    "    for row in range(x.shape[0]):\n",
    "        for col in range(x.shape[1]):\n",
    "            tmp_val = x[row, col]\n",
    "            x[row, col] = tmp_val + h\n",
    "            fxh1 = f(x)\n",
    "        \n",
    "            x[row, col] = tmp_val - h\n",
    "            fxh2 = f(x)\n",
    "        \n",
    "            grad[row, col] = (fxh1 - fxh2) / (2 * h)\n",
    "            x[row, col] = tmp_val\n",
    "    return grad"
   ]
  },
  {
   "cell_type": "markdown",
   "metadata": {},
   "source": [
    "### 경사하강법(Gradient descent)\n",
    "경사하강법이란 특점 점에서 기울기벡터 방향으로 조금씩 이동하면서 함수의 극소값을 도달하는 방법입니다. 다시말해 $x^{(0)} = (x_0^{(0)},x_1^{(0)})$에서 시작하였을 때, 음의 기울기 벡터 $-\\nabla f(x_0,x_1)$의 방향으로 $\\nu$만큼 이동하여 극소값에 근접한 새로운 점 $x^{(1)} = (x_0^{(1)}, x_1^{(1)}$을 찾는 방법입니다. 이를 수식으로 표현하면 아래와 같습니다.\n",
    "$$x_0^{(1)} = x_0^{(0)} - \\nu\\frac{\\partial f}{\\partial x_0}$$\n",
    "$$x_1^{(1)} = x_1^{(0)} - \\nu\\frac{\\partial f}{\\partial x_1}$$"
   ]
  },
  {
   "cell_type": "markdown",
   "metadata": {},
   "source": [
    "## 간단한 신경망 모델\n",
    "경사하강법을 이용하여 기계 학습이 구현된 간단한 신경망 모델을 만들어 보겠습니다. 여기서는 **클래스(class)**라는 구조를 사용합니다. 클래스란 딕셔너리 자료형과 비슷하게 변수가 구현될 뿐만 아니라 메서드 함수도 구현되는 자료구조를 말합니다."
   ]
  },
  {
   "cell_type": "code",
<<<<<<< HEAD
   "execution_count": 25,
   "metadata": {
    "collapsed": true
   },
=======
   "execution_count": 6,
   "metadata": {},
>>>>>>> e1e666eae85bf77385a11198c890a326ab335be6
   "outputs": [],
   "source": [
    "import sys, os\n",
    "import numpy as np\n",
    "\n",
    "def softmax(x):\n",
    "    m = np.max(x)\n",
    "    ex = np.exp(x - m)\n",
    "    return ex / np.sum(ex)\n",
    "\n",
    "class simpleNet:\n",
    "    def __init__(self):\n",
    "        self.W = np.random.randn(2,3)\n",
    "    def predict(self, x):\n",
    "        return np.dot(x, self.W)\n",
    "    def loss(self, x, t):\n",
    "        z = self.predict(x)\n",
    "        y = softmax(z)\n",
    "        loss = cross_entropy_minibatch(y, t)\n",
    "        return loss"
   ]
  },
  {
   "cell_type": "markdown",
   "metadata": {},
   "source": [
    "이 `simpleNet`이라는 클래스는 앞서 정의한 `network`를 클래스로 구현한 것입니다. `__init__`은 클래스객체를 초기화하는 함수로서 모든 클래스가 기본으로 구현되어야 합니다. 여기서는 랜덤한 2행 3열의 행렬로 초기화를 시킵니다. 예를 들어 `net`으로 클래스를 생성해 봅시다."
   ]
  },
  {
   "cell_type": "code",
   "execution_count": 7,
   "metadata": {},
   "outputs": [
    {
     "name": "stdout",
     "output_type": "stream",
     "text": [
      "[[ 0.13304102 -1.17663965  0.70214985]\n",
      " [ 0.32325934  0.64164532  1.18307937]]\n"
     ]
    }
   ],
   "source": [
    "net = simpleNet()\n",
    "print(net.W)"
   ]
  },
  {
   "cell_type": "markdown",
   "metadata": {},
   "source": [
    "이제 입력 뉴런 값을 임의로 집어넣고 순전파(forward propagation)를 진행해 봅시다. "
   ]
  },
  {
   "cell_type": "code",
   "execution_count": 8,
   "metadata": {},
   "outputs": [
    {
     "name": "stdout",
     "output_type": "stream",
     "text": [
      "[ 0.37075802 -0.128503    1.48606134]\n"
     ]
    }
   ],
   "source": [
    "x = np.array([.6, .9])\n",
    "p = net.predict(x)\n",
    "print(p)"
   ]
  },
  {
   "cell_type": "markdown",
   "metadata": {},
   "source": [
    "위의 실제값에 대한 참값 레이블이 $[0, 1, 0]$ 이었다고 합니다. (즉, 2번째 뉴런이 가장 크게 활성화가 되어야 정확한 결과입니다.)"
   ]
  },
  {
   "cell_type": "code",
   "execution_count": 9,
   "metadata": {},
   "outputs": [
    {
     "data": {
      "text/plain": [
       "2.037733143422798"
      ]
     },
     "execution_count": 9,
     "metadata": {},
     "output_type": "execute_result"
    }
   ],
   "source": [
    "t = np.array([0, 1, 0])\n",
    "net.loss(x, t)"
   ]
  },
  {
   "cell_type": "markdown",
   "metadata": {},
   "source": [
    "이 손실함수의 값을 더 줄이기 위해 경사하강법을 손실함수 $f$에 적용해 봅시다."
   ]
  },
  {
   "cell_type": "code",
   "execution_count": 10,
   "metadata": {},
   "outputs": [
    {
     "name": "stdout",
     "output_type": "stream",
     "text": [
      "[[ 0.12882514 -0.52180538  0.39298024]\n",
      " [ 0.19323771 -0.78270807  0.58947035]]\n"
     ]
    }
   ],
   "source": [
    "def f(W):\n",
    "    return net.loss(x, t)\n",
    "\n",
    "dW = numerical_gradient_2d(f, net.W)\n",
    "print(dW)"
   ]
  },
  {
   "cell_type": "markdown",
   "metadata": {},
   "source": [
    "이 기울기벡터 방향으로 가중치를 조금 바꾼 뒤 다시 손실함수를 계산해 봅시다. 위에서 계산한 값보다 조금 줄어드는 것을 확인할 수 있습니다."
   ]
  },
  {
   "cell_type": "code",
   "execution_count": 11,
   "metadata": {},
   "outputs": [
    {
     "data": {
      "text/plain": [
       "2.0233433198313087"
      ]
     },
     "execution_count": 11,
     "metadata": {},
     "output_type": "execute_result"
    }
   ],
   "source": [
    "nu = 1e-2\n",
    "net.W -= nu * dW\n",
    "net.loss(x, t)"
   ]
  },
  {
   "cell_type": "markdown",
   "metadata": {},
   "source": [
    "### 2층 신경망 클래스 구현\n",
    "기계학습은 위 과정을 반복하는 것입니다.\n",
    "1. 레이어의 수, 각 레이어마다 뉴런의 갯수, 가중치와 편향을 고려한 신경망 모델 제작\n",
    "2. 미니배치, 손실함수 설정\n",
    "3. 기울기벡터 구하기\n",
    "4. 매개변수(가중치, 편향 값) 갱신\n",
    "5. 1-4 반복\n",
    "\n",
    "위 방법을 적용하여 2층 신경망 클래스를 구현하고 MNIST 데이터셋으로 검증해 봅시다."
   ]
  },
  {
   "cell_type": "code",
<<<<<<< HEAD
   "execution_count": 120,
   "metadata": {
    "collapsed": true
   },
=======
   "execution_count": 12,
   "metadata": {},
>>>>>>> e1e666eae85bf77385a11198c890a326ab335be6
   "outputs": [],
   "source": [
    "def cross_entropy_error(y, t):\n",
    "    if y.ndim == 1:\n",
    "        t = t.reshape(1, t.size)\n",
    "        y = y.reshape(1, y.size)\n",
    "        \n",
    "    # 훈련 데이터가 원-핫 벡터라면 정답 레이블의 인덱스로 반환\n",
    "    if t.size == y.size:\n",
    "        t = t.argmax(axis=1)\n",
    "             \n",
    "    batch_size = y.shape[0]\n",
    "    return -np.sum(np.log(y[np.arange(batch_size), t] + 1e-7)) / batch_size\n",
    "\n",
    "def softmax(x):\n",
    "    if x.ndim == 2:\n",
    "        x = x.T\n",
    "        x = x - np.max(x, axis=0)\n",
    "        y = np.exp(x) / np.sum(np.exp(x), axis=0)\n",
    "        return y.T \n",
    "\n",
    "    x = x - np.max(x) \n",
    "    return np.exp(x) / np.sum(np.exp(x))\n",
    "\n",
    "def sigmoid(x):\n",
    "    return 1 / (1 + np.exp(-x))\n",
    "\n",
    "def sigmoid_grad(x):\n",
    "    return (1.0 - sigmoid(x)) * sigmoid(x)    "
   ]
  },
  {
   "cell_type": "code",
<<<<<<< HEAD
   "execution_count": 121,
   "metadata": {
    "collapsed": true
   },
=======
   "execution_count": 13,
   "metadata": {},
>>>>>>> e1e666eae85bf77385a11198c890a326ab335be6
   "outputs": [],
   "source": [
    "import sys, os\n",
    "import numpy as np\n",
    "\n",
    "def _numerical_gradient_1d(f, x):\n",
    "    h = 1e-4 # 0.0001\n",
    "    grad = np.zeros_like(x)\n",
    "    \n",
    "    for idx in range(x.size):\n",
    "        tmp_val = x[idx]\n",
    "        x[idx] = float(tmp_val) + h\n",
    "        fxh1 = f(x) # f(x+h)\n",
    "        \n",
    "        x[idx] = tmp_val - h \n",
    "        fxh2 = f(x) # f(x-h)\n",
    "        grad[idx] = (fxh1 - fxh2) / (2*h)\n",
    "        \n",
    "        x[idx] = tmp_val # 값 복원\n",
    "        \n",
    "    return grad\n",
    "\n",
    "\n",
    "def numerical_gradient_2d(f, X):\n",
    "    if X.ndim == 1:\n",
    "        return _numerical_gradient_1d(f, X)\n",
    "    else:\n",
    "        grad = np.zeros_like(X)\n",
    "        \n",
    "        for idx, x in enumerate(X):\n",
    "            grad[idx] = _numerical_gradient_1d(f, x)\n",
    "        \n",
    "    return grad\n",
    "\n",
    "def numerical_gradient(f, x):\n",
    "    h = 1e-4 # 0.0001\n",
    "    grad = np.zeros_like(x)\n",
    "    \n",
    "    it = np.nditer(x, flags=['multi_index'], op_flags=['readwrite'])\n",
    "    while not it.finished:\n",
    "        idx = it.multi_index\n",
    "        tmp_val = x[idx]\n",
    "        x[idx] = float(tmp_val) + h\n",
    "        fxh1 = f(x) # f(x+h)\n",
    "        \n",
    "        x[idx] = tmp_val - h \n",
    "        fxh2 = f(x) # f(x-h)\n",
    "        grad[idx] = (fxh1 - fxh2) / (2*h)\n",
    "        \n",
    "        x[idx] = tmp_val # 값 복원\n",
    "        it.iternext()   \n",
    "        \n",
    "    return grad"
   ]
  },
  {
   "cell_type": "code",
<<<<<<< HEAD
   "execution_count": 122,
   "metadata": {
    "collapsed": true
   },
=======
   "execution_count": 14,
   "metadata": {},
>>>>>>> e1e666eae85bf77385a11198c890a326ab335be6
   "outputs": [],
   "source": [
    "class TwoLayerNet:\n",
    "\n",
    "    def __init__(self, input_size, hidden_size, output_size, weight_init_std=0.01):\n",
    "        # 가중치 초기화\n",
    "        self.params = {}\n",
    "        self.params['W1'] = weight_init_std * np.random.randn(input_size, hidden_size)\n",
    "        self.params['b1'] = np.zeros(hidden_size)\n",
    "        self.params['W2'] = weight_init_std * np.random.randn(hidden_size, output_size)\n",
    "        self.params['b2'] = np.zeros(output_size)\n",
    "\n",
    "    def predict(self, x):\n",
    "        W1, W2 = self.params['W1'], self.params['W2']\n",
    "        b1, b2 = self.params['b1'], self.params['b2']\n",
    "    \n",
    "        a1 = np.dot(x, W1) + b1\n",
    "        z1 = sigmoid(a1)\n",
    "        a2 = np.dot(z1, W2) + b2\n",
    "        y = softmax(a2)\n",
    "        \n",
    "        return y\n",
    "        \n",
    "    # x : 입력 데이터, t : 정답 레이블\n",
    "    def loss(self, x, t):\n",
    "        y = self.predict(x)\n",
    "        \n",
    "        return cross_entropy_error(y, t)\n",
    "    \n",
    "    def accuracy(self, x, t):\n",
    "        y = self.predict(x)\n",
    "        y = np.argmax(y, axis=1)\n",
    "        t = np.argmax(t, axis=1)\n",
    "        \n",
    "        accuracy = np.sum(y == t) / float(x.shape[0])\n",
    "        return accuracy\n",
    "        \n",
    "    # x : 입력 데이터, t : 정답 레이블\n",
    "    def numerical_gradient(self, x, t):\n",
    "        loss_W = lambda W: self.loss(x, t)\n",
    "        \n",
    "        grads = {}\n",
    "        grads['W1'] = numerical_gradient(loss_W, self.params['W1'])\n",
    "        grads['b1'] = numerical_gradient(loss_W, self.params['b1'])\n",
    "        grads['W2'] = numerical_gradient(loss_W, self.params['W2'])\n",
    "        grads['b2'] = numerical_gradient(loss_W, self.params['b2'])\n",
    "        \n",
    "        return grads\n",
    "        \n",
    "    def gradient(self, x, t):\n",
    "        W1, W2 = self.params['W1'], self.params['W2']\n",
    "        b1, b2 = self.params['b1'], self.params['b2']\n",
    "        grads = {}\n",
    "        \n",
    "        batch_num = x.shape[0]\n",
    "        \n",
    "        # forward\n",
    "        a1 = np.dot(x, W1) + b1\n",
    "        z1 = sigmoid(a1)\n",
    "        a2 = np.dot(z1, W2) + b2\n",
    "        y = softmax(a2)\n",
    "        \n",
    "        # backward\n",
    "        dy = (y - t) / batch_num\n",
    "        grads['W2'] = np.dot(z1.T, dy)\n",
    "        grads['b2'] = np.sum(dy, axis=0)\n",
    "        \n",
    "        dz1 = np.dot(dy, W2.T)\n",
    "        da1 = sigmoid_grad(a1) * dz1\n",
    "        grads['W1'] = np.dot(x.T, da1)\n",
    "        grads['b1'] = np.sum(da1, axis=0)\n",
    "        \n",
    "        return grads"
   ]
  },
  {
   "cell_type": "code",
   "execution_count": 15,
   "metadata": {},
   "outputs": [],
   "source": [
    "# coding: utf-8\n",
    "import sys, os\n",
    "import numpy as np\n",
    "import matplotlib.pyplot as plt\n",
    "from dataset.mnist import load_mnist\n",
    "\n",
    "# 데이터 읽기\n",
    "(x_train, t_train), (x_test, t_test) = load_mnist(normalize=True, one_hot_label=True)"
   ]
  },
  {
   "cell_type": "code",
   "execution_count": 19,
   "metadata": {
    "scrolled": true
   },
   "outputs": [
    {
     "name": "stdout",
     "output_type": "stream",
     "text": [
      "train acc, test acc | 0.09736666666666667, 0.0982\n",
      "train acc, test acc | 0.7894, 0.7909\n",
      "train acc, test acc | 0.8765833333333334, 0.8803\n",
      "train acc, test acc | 0.8967166666666667, 0.9011\n",
      "train acc, test acc | 0.9054, 0.9102\n",
      "train acc, test acc | 0.9139833333333334, 0.915\n",
      "train acc, test acc | 0.9193166666666667, 0.9192\n",
      "train acc, test acc | 0.92355, 0.923\n",
      "train acc, test acc | 0.9265333333333333, 0.9281\n",
      "train acc, test acc | 0.9300333333333334, 0.932\n",
      "train acc, test acc | 0.93285, 0.9337\n",
      "train acc, test acc | 0.9349166666666666, 0.9362\n",
      "train acc, test acc | 0.93835, 0.9388\n",
      "train acc, test acc | 0.9400833333333334, 0.9396\n",
      "train acc, test acc | 0.9418166666666666, 0.942\n",
      "train acc, test acc | 0.9442, 0.9423\n",
      "train acc, test acc | 0.94565, 0.9441\n"
     ]
    },
    {
     "data": {
      "image/png": "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\n",
      "text/plain": [
       "<Figure size 432x288 with 1 Axes>"
      ]
     },
     "metadata": {
      "needs_background": "light"
     },
     "output_type": "display_data"
    }
   ],
   "source": [
    "network = TwoLayerNet(input_size=784, hidden_size=50, output_size=10)\n",
    "\n",
    "# 하이퍼파라미터\n",
    "iters_num = 10000  # 반복 횟수를 적절히 설정한다.\n",
    "train_size = x_train.shape[0]\n",
    "batch_size = 100   # 미니배치 크기\n",
    "learning_rate = 0.1\n",
    "\n",
    "train_loss_list = []\n",
    "train_acc_list = []\n",
    "test_acc_list = []\n",
    "\n",
    "# 1에폭당 반복 수\n",
    "iter_per_epoch = max(train_size / batch_size, 1)\n",
    "\n",
    "for i in range(iters_num):\n",
    "    # 미니배치 획득\n",
    "    batch_mask = np.random.choice(train_size, batch_size)\n",
    "    x_batch = x_train[batch_mask]\n",
    "    t_batch = t_train[batch_mask]\n",
    "    \n",
    "    # 기울기 계산\n",
    "    grad = network.gradient(x_batch, t_batch)\n",
    "    \n",
    "    # 매개변수 갱신\n",
    "    for key in ('W1', 'b1', 'W2', 'b2'):\n",
    "        network.params[key] -= learning_rate * grad[key]\n",
    "    \n",
    "    # 학습 경과 기록\n",
    "    loss = network.loss(x_batch, t_batch)\n",
    "    train_loss_list.append(loss)\n",
    "    \n",
    "    # 1에폭당 정확도 계산\n",
    "    if i % iter_per_epoch == 0:\n",
    "        train_acc = network.accuracy(x_train, t_train)\n",
    "        test_acc = network.accuracy(x_test, t_test)\n",
    "        train_acc_list.append(train_acc)\n",
    "        test_acc_list.append(test_acc)\n",
    "        print(\"train acc, test acc | \" + str(train_acc) + \", \" + str(test_acc))\n",
    "\n",
    "# 그래프 그리기\n",
    "markers = {'train': 'o', 'test': 's'}\n",
    "x = np.arange(len(train_acc_list))\n",
    "plt.plot(x, train_acc_list, label='train acc')\n",
    "plt.plot(x, test_acc_list, label='test acc', linestyle='--')\n",
    "plt.xlabel(\"epochs\")\n",
    "plt.ylabel(\"accuracy\")\n",
    "plt.ylim(0, 1.0)\n",
    "plt.legend(loc='lower right')\n",
    "plt.show()"
   ]
  },
  {
   "cell_type": "code",
   "execution_count": 23,
   "metadata": {},
   "outputs": [
    {
     "name": "stdout",
     "output_type": "stream",
     "text": [
      "[6.50977539e-05 6.05382567e-05 2.10257720e-02 1.77708626e-02\n",
      " 9.25014047e-01 8.50735945e-04 1.61321557e-03 1.57667904e-02\n",
      " 6.34326593e-04 1.71986134e-02]\n",
      "4\n"
     ]
    },
    {
     "data": {
      "image/png": "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\n",
      "text/plain": [
       "<Figure size 432x288 with 1 Axes>"
      ]
     },
     "metadata": {
      "needs_background": "light"
     },
     "output_type": "display_data"
    }
   ],
   "source": [
    "print(network.predict(x_train[2]))\n",
    "print(np.argmax(network.predict(x_train[2]), axis=0))\n",
    "plt.imshow(x_train[2].reshape(28,28))\n",
    "plt.show()"
   ]
  },
  {
   "cell_type": "code",
   "execution_count": 18,
   "metadata": {},
   "outputs": [
    {
     "data": {
      "image/png": "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\n",
      "text/plain": [
       "<Figure size 432x288 with 1 Axes>"
      ]
     },
     "metadata": {
      "needs_background": "light"
     },
     "output_type": "display_data"
    }
   ],
   "source": [
    "import matplotlib.pyplot as plt\n",
    "x = np.arange(len(train_loss_list))\n",
    "y = train_loss_list\n",
    "plt.plot(x,y)\n",
    "plt.show()"
   ]
  },
  {
   "cell_type": "code",
   "execution_count": null,
   "metadata": {
    "collapsed": true
   },
   "outputs": [],
   "source": []
  }
 ],
 "metadata": {
  "kernelspec": {
   "display_name": "Python 3",
   "language": "python",
   "name": "python3"
  },
  "language_info": {
   "codemirror_mode": {
    "name": "ipython",
    "version": 3
   },
   "file_extension": ".py",
   "mimetype": "text/x-python",
   "name": "python",
   "nbconvert_exporter": "python",
   "pygments_lexer": "ipython3",
   "version": "3.6.3"
  }
 },
 "nbformat": 4,
 "nbformat_minor": 2
}
